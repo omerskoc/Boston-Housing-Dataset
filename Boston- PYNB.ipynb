{
 "cells": [
  {
   "cell_type": "markdown",
   "metadata": {},
   "source": [
    "# Data Exploration"
   ]
  },
  {
   "cell_type": "code",
   "execution_count": 1,
   "metadata": {},
   "outputs": [],
   "source": [
    "import pandas as pd\n",
    "import numpy as np\n",
    "import matplotlib.pyplot as plt\n",
    "%matplotlib inline"
   ]
  },
  {
   "cell_type": "code",
   "execution_count": 2,
   "metadata": {},
   "outputs": [
    {
     "data": {
      "text/html": [
       "<div>\n",
       "<style scoped>\n",
       "    .dataframe tbody tr th:only-of-type {\n",
       "        vertical-align: middle;\n",
       "    }\n",
       "\n",
       "    .dataframe tbody tr th {\n",
       "        vertical-align: top;\n",
       "    }\n",
       "\n",
       "    .dataframe thead th {\n",
       "        text-align: right;\n",
       "    }\n",
       "</style>\n",
       "<table border=\"1\" class=\"dataframe\">\n",
       "  <thead>\n",
       "    <tr style=\"text-align: right;\">\n",
       "      <th></th>\n",
       "      <th>crim</th>\n",
       "      <th>zn</th>\n",
       "      <th>indus</th>\n",
       "      <th>chas</th>\n",
       "      <th>nox</th>\n",
       "      <th>rm</th>\n",
       "      <th>age</th>\n",
       "      <th>dis</th>\n",
       "      <th>rad</th>\n",
       "      <th>tax</th>\n",
       "      <th>ptratio</th>\n",
       "      <th>black</th>\n",
       "      <th>lstat</th>\n",
       "      <th>medv</th>\n",
       "    </tr>\n",
       "  </thead>\n",
       "  <tbody>\n",
       "    <tr>\n",
       "      <th>0</th>\n",
       "      <td>0.00632</td>\n",
       "      <td>18.0</td>\n",
       "      <td>2.31</td>\n",
       "      <td>0</td>\n",
       "      <td>0.538</td>\n",
       "      <td>6.575</td>\n",
       "      <td>65.2</td>\n",
       "      <td>4.0900</td>\n",
       "      <td>1</td>\n",
       "      <td>296</td>\n",
       "      <td>15.3</td>\n",
       "      <td>396.90</td>\n",
       "      <td>4.98</td>\n",
       "      <td>24.0</td>\n",
       "    </tr>\n",
       "    <tr>\n",
       "      <th>1</th>\n",
       "      <td>0.02731</td>\n",
       "      <td>0.0</td>\n",
       "      <td>7.07</td>\n",
       "      <td>0</td>\n",
       "      <td>0.469</td>\n",
       "      <td>6.421</td>\n",
       "      <td>78.9</td>\n",
       "      <td>4.9671</td>\n",
       "      <td>2</td>\n",
       "      <td>242</td>\n",
       "      <td>17.8</td>\n",
       "      <td>396.90</td>\n",
       "      <td>9.14</td>\n",
       "      <td>21.6</td>\n",
       "    </tr>\n",
       "    <tr>\n",
       "      <th>2</th>\n",
       "      <td>0.02729</td>\n",
       "      <td>0.0</td>\n",
       "      <td>7.07</td>\n",
       "      <td>0</td>\n",
       "      <td>0.469</td>\n",
       "      <td>7.185</td>\n",
       "      <td>61.1</td>\n",
       "      <td>4.9671</td>\n",
       "      <td>2</td>\n",
       "      <td>242</td>\n",
       "      <td>17.8</td>\n",
       "      <td>392.83</td>\n",
       "      <td>4.03</td>\n",
       "      <td>34.7</td>\n",
       "    </tr>\n",
       "    <tr>\n",
       "      <th>3</th>\n",
       "      <td>0.03237</td>\n",
       "      <td>0.0</td>\n",
       "      <td>2.18</td>\n",
       "      <td>0</td>\n",
       "      <td>0.458</td>\n",
       "      <td>6.998</td>\n",
       "      <td>45.8</td>\n",
       "      <td>6.0622</td>\n",
       "      <td>3</td>\n",
       "      <td>222</td>\n",
       "      <td>18.7</td>\n",
       "      <td>394.63</td>\n",
       "      <td>2.94</td>\n",
       "      <td>33.4</td>\n",
       "    </tr>\n",
       "    <tr>\n",
       "      <th>4</th>\n",
       "      <td>0.06905</td>\n",
       "      <td>0.0</td>\n",
       "      <td>2.18</td>\n",
       "      <td>0</td>\n",
       "      <td>0.458</td>\n",
       "      <td>7.147</td>\n",
       "      <td>54.2</td>\n",
       "      <td>6.0622</td>\n",
       "      <td>3</td>\n",
       "      <td>222</td>\n",
       "      <td>18.7</td>\n",
       "      <td>396.90</td>\n",
       "      <td>5.33</td>\n",
       "      <td>36.2</td>\n",
       "    </tr>\n",
       "  </tbody>\n",
       "</table>\n",
       "</div>"
      ],
      "text/plain": [
       "      crim    zn  indus  chas    nox     rm   age     dis  rad  tax  ptratio  \\\n",
       "0  0.00632  18.0   2.31     0  0.538  6.575  65.2  4.0900    1  296     15.3   \n",
       "1  0.02731   0.0   7.07     0  0.469  6.421  78.9  4.9671    2  242     17.8   \n",
       "2  0.02729   0.0   7.07     0  0.469  7.185  61.1  4.9671    2  242     17.8   \n",
       "3  0.03237   0.0   2.18     0  0.458  6.998  45.8  6.0622    3  222     18.7   \n",
       "4  0.06905   0.0   2.18     0  0.458  7.147  54.2  6.0622    3  222     18.7   \n",
       "\n",
       "    black  lstat  medv  \n",
       "0  396.90   4.98  24.0  \n",
       "1  396.90   9.14  21.6  \n",
       "2  392.83   4.03  34.7  \n",
       "3  394.63   2.94  33.4  \n",
       "4  396.90   5.33  36.2  "
      ]
     },
     "execution_count": 2,
     "metadata": {},
     "output_type": "execute_result"
    }
   ],
   "source": [
    "#read in the data using pandas\n",
    "boston_data=pd.read_csv(\"Boston_Data.csv\")\n",
    "boston_data.head()"
   ]
  },
  {
   "cell_type": "code",
   "execution_count": 3,
   "metadata": {},
   "outputs": [
    {
     "data": {
      "text/html": [
       "<div>\n",
       "<style scoped>\n",
       "    .dataframe tbody tr th:only-of-type {\n",
       "        vertical-align: middle;\n",
       "    }\n",
       "\n",
       "    .dataframe tbody tr th {\n",
       "        vertical-align: top;\n",
       "    }\n",
       "\n",
       "    .dataframe thead th {\n",
       "        text-align: right;\n",
       "    }\n",
       "</style>\n",
       "<table border=\"1\" class=\"dataframe\">\n",
       "  <thead>\n",
       "    <tr style=\"text-align: right;\">\n",
       "      <th></th>\n",
       "      <th>crim</th>\n",
       "      <th>zn</th>\n",
       "      <th>indus</th>\n",
       "      <th>chas</th>\n",
       "      <th>nox</th>\n",
       "      <th>rm</th>\n",
       "      <th>age</th>\n",
       "      <th>dis</th>\n",
       "      <th>rad</th>\n",
       "      <th>tax</th>\n",
       "      <th>ptratio</th>\n",
       "      <th>black</th>\n",
       "      <th>lstat</th>\n",
       "      <th>medv</th>\n",
       "    </tr>\n",
       "  </thead>\n",
       "  <tbody>\n",
       "    <tr>\n",
       "      <th>count</th>\n",
       "      <td>506.000000</td>\n",
       "      <td>506.000000</td>\n",
       "      <td>506.000000</td>\n",
       "      <td>506.000000</td>\n",
       "      <td>506.000000</td>\n",
       "      <td>506.000000</td>\n",
       "      <td>506.000000</td>\n",
       "      <td>506.000000</td>\n",
       "      <td>506.000000</td>\n",
       "      <td>506.000000</td>\n",
       "      <td>506.000000</td>\n",
       "      <td>506.000000</td>\n",
       "      <td>506.000000</td>\n",
       "      <td>506.000000</td>\n",
       "    </tr>\n",
       "    <tr>\n",
       "      <th>mean</th>\n",
       "      <td>3.613524</td>\n",
       "      <td>11.363636</td>\n",
       "      <td>11.136779</td>\n",
       "      <td>0.069170</td>\n",
       "      <td>0.554695</td>\n",
       "      <td>6.284634</td>\n",
       "      <td>68.574901</td>\n",
       "      <td>3.795043</td>\n",
       "      <td>9.549407</td>\n",
       "      <td>408.237154</td>\n",
       "      <td>18.455534</td>\n",
       "      <td>356.674032</td>\n",
       "      <td>12.653063</td>\n",
       "      <td>22.532806</td>\n",
       "    </tr>\n",
       "    <tr>\n",
       "      <th>std</th>\n",
       "      <td>8.601545</td>\n",
       "      <td>23.322453</td>\n",
       "      <td>6.860353</td>\n",
       "      <td>0.253994</td>\n",
       "      <td>0.115878</td>\n",
       "      <td>0.702617</td>\n",
       "      <td>28.148861</td>\n",
       "      <td>2.105710</td>\n",
       "      <td>8.707259</td>\n",
       "      <td>168.537116</td>\n",
       "      <td>2.164946</td>\n",
       "      <td>91.294864</td>\n",
       "      <td>7.141062</td>\n",
       "      <td>9.197104</td>\n",
       "    </tr>\n",
       "    <tr>\n",
       "      <th>min</th>\n",
       "      <td>0.006320</td>\n",
       "      <td>0.000000</td>\n",
       "      <td>0.460000</td>\n",
       "      <td>0.000000</td>\n",
       "      <td>0.385000</td>\n",
       "      <td>3.561000</td>\n",
       "      <td>2.900000</td>\n",
       "      <td>1.129600</td>\n",
       "      <td>1.000000</td>\n",
       "      <td>187.000000</td>\n",
       "      <td>12.600000</td>\n",
       "      <td>0.320000</td>\n",
       "      <td>1.730000</td>\n",
       "      <td>5.000000</td>\n",
       "    </tr>\n",
       "    <tr>\n",
       "      <th>25%</th>\n",
       "      <td>0.082045</td>\n",
       "      <td>0.000000</td>\n",
       "      <td>5.190000</td>\n",
       "      <td>0.000000</td>\n",
       "      <td>0.449000</td>\n",
       "      <td>5.885500</td>\n",
       "      <td>45.025000</td>\n",
       "      <td>2.100175</td>\n",
       "      <td>4.000000</td>\n",
       "      <td>279.000000</td>\n",
       "      <td>17.400000</td>\n",
       "      <td>375.377500</td>\n",
       "      <td>6.950000</td>\n",
       "      <td>17.025000</td>\n",
       "    </tr>\n",
       "    <tr>\n",
       "      <th>50%</th>\n",
       "      <td>0.256510</td>\n",
       "      <td>0.000000</td>\n",
       "      <td>9.690000</td>\n",
       "      <td>0.000000</td>\n",
       "      <td>0.538000</td>\n",
       "      <td>6.208500</td>\n",
       "      <td>77.500000</td>\n",
       "      <td>3.207450</td>\n",
       "      <td>5.000000</td>\n",
       "      <td>330.000000</td>\n",
       "      <td>19.050000</td>\n",
       "      <td>391.440000</td>\n",
       "      <td>11.360000</td>\n",
       "      <td>21.200000</td>\n",
       "    </tr>\n",
       "    <tr>\n",
       "      <th>75%</th>\n",
       "      <td>3.677082</td>\n",
       "      <td>12.500000</td>\n",
       "      <td>18.100000</td>\n",
       "      <td>0.000000</td>\n",
       "      <td>0.624000</td>\n",
       "      <td>6.623500</td>\n",
       "      <td>94.075000</td>\n",
       "      <td>5.188425</td>\n",
       "      <td>24.000000</td>\n",
       "      <td>666.000000</td>\n",
       "      <td>20.200000</td>\n",
       "      <td>396.225000</td>\n",
       "      <td>16.955000</td>\n",
       "      <td>25.000000</td>\n",
       "    </tr>\n",
       "    <tr>\n",
       "      <th>max</th>\n",
       "      <td>88.976200</td>\n",
       "      <td>100.000000</td>\n",
       "      <td>27.740000</td>\n",
       "      <td>1.000000</td>\n",
       "      <td>0.871000</td>\n",
       "      <td>8.780000</td>\n",
       "      <td>100.000000</td>\n",
       "      <td>12.126500</td>\n",
       "      <td>24.000000</td>\n",
       "      <td>711.000000</td>\n",
       "      <td>22.000000</td>\n",
       "      <td>396.900000</td>\n",
       "      <td>37.970000</td>\n",
       "      <td>50.000000</td>\n",
       "    </tr>\n",
       "  </tbody>\n",
       "</table>\n",
       "</div>"
      ],
      "text/plain": [
       "             crim          zn       indus        chas         nox          rm  \\\n",
       "count  506.000000  506.000000  506.000000  506.000000  506.000000  506.000000   \n",
       "mean     3.613524   11.363636   11.136779    0.069170    0.554695    6.284634   \n",
       "std      8.601545   23.322453    6.860353    0.253994    0.115878    0.702617   \n",
       "min      0.006320    0.000000    0.460000    0.000000    0.385000    3.561000   \n",
       "25%      0.082045    0.000000    5.190000    0.000000    0.449000    5.885500   \n",
       "50%      0.256510    0.000000    9.690000    0.000000    0.538000    6.208500   \n",
       "75%      3.677082   12.500000   18.100000    0.000000    0.624000    6.623500   \n",
       "max     88.976200  100.000000   27.740000    1.000000    0.871000    8.780000   \n",
       "\n",
       "              age         dis         rad         tax     ptratio       black  \\\n",
       "count  506.000000  506.000000  506.000000  506.000000  506.000000  506.000000   \n",
       "mean    68.574901    3.795043    9.549407  408.237154   18.455534  356.674032   \n",
       "std     28.148861    2.105710    8.707259  168.537116    2.164946   91.294864   \n",
       "min      2.900000    1.129600    1.000000  187.000000   12.600000    0.320000   \n",
       "25%     45.025000    2.100175    4.000000  279.000000   17.400000  375.377500   \n",
       "50%     77.500000    3.207450    5.000000  330.000000   19.050000  391.440000   \n",
       "75%     94.075000    5.188425   24.000000  666.000000   20.200000  396.225000   \n",
       "max    100.000000   12.126500   24.000000  711.000000   22.000000  396.900000   \n",
       "\n",
       "            lstat        medv  \n",
       "count  506.000000  506.000000  \n",
       "mean    12.653063   22.532806  \n",
       "std      7.141062    9.197104  \n",
       "min      1.730000    5.000000  \n",
       "25%      6.950000   17.025000  \n",
       "50%     11.360000   21.200000  \n",
       "75%     16.955000   25.000000  \n",
       "max     37.970000   50.000000  "
      ]
     },
     "execution_count": 3,
     "metadata": {},
     "output_type": "execute_result"
    }
   ],
   "source": [
    "boston_data.describe()"
   ]
  },
  {
   "cell_type": "code",
   "execution_count": 4,
   "metadata": {},
   "outputs": [
    {
     "data": {
      "text/plain": [
       "(506, 14)"
      ]
     },
     "execution_count": 4,
     "metadata": {},
     "output_type": "execute_result"
    }
   ],
   "source": [
    "boston_data.shape"
   ]
  },
  {
   "cell_type": "code",
   "execution_count": 5,
   "metadata": {},
   "outputs": [
    {
     "name": "stdout",
     "output_type": "stream",
     "text": [
      "<class 'pandas.core.frame.DataFrame'>\n",
      "RangeIndex: 506 entries, 0 to 505\n",
      "Data columns (total 14 columns):\n",
      " #   Column   Non-Null Count  Dtype  \n",
      "---  ------   --------------  -----  \n",
      " 0   crim     506 non-null    float64\n",
      " 1   zn       506 non-null    float64\n",
      " 2   indus    506 non-null    float64\n",
      " 3   chas     506 non-null    int64  \n",
      " 4   nox      506 non-null    float64\n",
      " 5   rm       506 non-null    float64\n",
      " 6   age      506 non-null    float64\n",
      " 7   dis      506 non-null    float64\n",
      " 8   rad      506 non-null    int64  \n",
      " 9   tax      506 non-null    int64  \n",
      " 10  ptratio  506 non-null    float64\n",
      " 11  black    506 non-null    float64\n",
      " 12  lstat    506 non-null    float64\n",
      " 13  medv     506 non-null    float64\n",
      "dtypes: float64(11), int64(3)\n",
      "memory usage: 55.5 KB\n"
     ]
    }
   ],
   "source": [
    "# Print column names and type\n",
    "boston_data.info()"
   ]
  },
  {
   "cell_type": "code",
   "execution_count": 6,
   "metadata": {},
   "outputs": [
    {
     "data": {
      "text/plain": [
       "crim       0\n",
       "zn         0\n",
       "indus      0\n",
       "chas       0\n",
       "nox        0\n",
       "rm         0\n",
       "age        0\n",
       "dis        0\n",
       "rad        0\n",
       "tax        0\n",
       "ptratio    0\n",
       "black      0\n",
       "lstat      0\n",
       "medv       0\n",
       "dtype: int64"
      ]
     },
     "execution_count": 6,
     "metadata": {},
     "output_type": "execute_result"
    }
   ],
   "source": [
    "# check null for each features\n",
    "boston_data.isnull().sum()"
   ]
  },
  {
   "cell_type": "code",
   "execution_count": 7,
   "metadata": {},
   "outputs": [],
   "source": [
    "X = boston_data.drop('crim', axis = 1 )\n",
    "Y = boston_data['crim']"
   ]
  },
  {
   "cell_type": "code",
   "execution_count": 8,
   "metadata": {},
   "outputs": [],
   "source": [
    "from sklearn.model_selection import train_test_split\n",
    "#split dataset into train and test data\n",
    "x_train, x_test, y_train, y_test = train_test_split(X, Y, test_size=0.2,random_state=5)"
   ]
  },
  {
   "cell_type": "code",
   "execution_count": 9,
   "metadata": {},
   "outputs": [
    {
     "data": {
      "text/plain": [
       "(404, 13)"
      ]
     },
     "execution_count": 9,
     "metadata": {},
     "output_type": "execute_result"
    }
   ],
   "source": [
    "x_train.shape"
   ]
  },
  {
   "cell_type": "code",
   "execution_count": 10,
   "metadata": {},
   "outputs": [
    {
     "data": {
      "text/plain": [
       "(102, 13)"
      ]
     },
     "execution_count": 10,
     "metadata": {},
     "output_type": "execute_result"
    }
   ],
   "source": [
    "x_test.shape"
   ]
  },
  {
   "cell_type": "code",
   "execution_count": 11,
   "metadata": {},
   "outputs": [
    {
     "data": {
      "text/plain": [
       "0    0.00632\n",
       "1    0.02731\n",
       "2    0.02729\n",
       "3    0.03237\n",
       "4    0.06905\n",
       "Name: crim, dtype: float64"
      ]
     },
     "execution_count": 11,
     "metadata": {},
     "output_type": "execute_result"
    }
   ],
   "source": [
    "# As response variables are continious, we should apply regression.\n",
    "Y.head()"
   ]
  },
  {
   "cell_type": "markdown",
   "metadata": {},
   "source": [
    "# Multiple Linear Regression"
   ]
  },
  {
   "cell_type": "code",
   "execution_count": 12,
   "metadata": {},
   "outputs": [],
   "source": [
    "import pandas as pd\n",
    "import numpy as np\n",
    "import matplotlib.pyplot as plt\n",
    "%matplotlib inline"
   ]
  },
  {
   "cell_type": "code",
   "execution_count": 13,
   "metadata": {},
   "outputs": [],
   "source": [
    "#read in the data using pandas\n",
    "data=pd.read_csv(\"Boston_Data.csv\")\n",
    "X = boston_data.drop('crim', axis = 1 )\n",
    "Y = boston_data['crim']"
   ]
  },
  {
   "cell_type": "code",
   "execution_count": 14,
   "metadata": {},
   "outputs": [],
   "source": [
    "from sklearn.model_selection import train_test_split\n",
    "#split dataset into train and test data\n",
    "x_train, x_test, y_train, y_test = train_test_split(X, Y, test_size=0.2,random_state=5)"
   ]
  },
  {
   "cell_type": "code",
   "execution_count": 15,
   "metadata": {},
   "outputs": [
    {
     "data": {
      "text/plain": [
       "LinearRegression(copy_X=True, fit_intercept=True, n_jobs=None, normalize=False)"
      ]
     },
     "execution_count": 15,
     "metadata": {},
     "output_type": "execute_result"
    }
   ],
   "source": [
    "from sklearn.linear_model import LinearRegression\n",
    "# Create Linear Regression \n",
    "lm = LinearRegression()\n",
    "# Fit the the data\n",
    "lm.fit(x_train, y_train)"
   ]
  },
  {
   "cell_type": "code",
   "execution_count": 16,
   "metadata": {},
   "outputs": [
    {
     "data": {
      "text/plain": [
       "array([ 0.85898163,  2.36043297,  0.67695047, 15.29765543, -1.75633058,\n",
       "       14.80561525, -1.42073615,  1.25457354,  2.39465666, 10.7972279 ,\n",
       "       -1.24145814,  0.41810281,  0.83672075,  1.85746482,  0.85333666,\n",
       "       -2.81589211, 14.13952358, -0.03836738,  2.66574904, 12.62929028,\n",
       "        3.64435044, -1.15024026, -0.09067445,  0.27597252, -0.22422522,\n",
       "       13.99825698, -0.3129705 ,  2.48185621, -2.34403594, -3.88512854,\n",
       "        2.65156218,  3.49144879, 13.04776441, 12.58456863,  2.73642949,\n",
       "       -0.12909276,  1.71154821, 15.30239914, -0.83129454, -0.22131425,\n",
       "       12.95114631,  3.89814387,  1.73555388, 12.50816541, -1.98934061,\n",
       "        1.6577038 , 16.07650899,  0.736267  ,  0.42110006,  3.61941633,\n",
       "        2.5502139 , -0.39916003,  0.54642661,  2.74889268,  0.70198231,\n",
       "       -1.90909352, -3.58151837, 12.8219884 , -2.21824609,  0.53805181,\n",
       "        3.34512506,  1.69400818,  1.27696253, -2.72711331,  7.81976339,\n",
       "       14.11588581,  0.13305378, -1.78304175, -0.46436069, 10.27260831,\n",
       "       13.27084844,  0.66284716, -0.70176504, 12.1950244 ,  9.17034127,\n",
       "       -3.84459375,  2.85459413,  2.55587717,  3.35482291, 12.36505294,\n",
       "       11.3304348 , -4.3696847 ,  4.89391944, 12.77920074,  3.40241088,\n",
       "       13.34842343,  2.93105556, 14.15934437, -0.34792908, -2.82214312,\n",
       "       -4.25259019, -0.07848387, 11.42014988, 11.32207618, -0.37113274,\n",
       "       -1.17654682,  0.87506499, -4.89378499,  0.50668629,  1.71220881,\n",
       "       10.04670124, -0.88187305])"
      ]
     },
     "execution_count": 16,
     "metadata": {},
     "output_type": "execute_result"
    }
   ],
   "source": [
    "#Make prediction using test data\n",
    "y_pred = lm.predict(x_test)\n",
    "y_pred"
   ]
  },
  {
   "cell_type": "code",
   "execution_count": 17,
   "metadata": {},
   "outputs": [
    {
     "name": "stdout",
     "output_type": "stream",
     "text": [
      "0.4925303457191883\n"
     ]
    }
   ],
   "source": [
    "# Use score method to get test accuracy of model\n",
    "score = lm.score(x_test, y_test)\n",
    "print(score)"
   ]
  },
  {
   "cell_type": "code",
   "execution_count": 18,
   "metadata": {},
   "outputs": [
    {
     "data": {
      "text/html": [
       "<div>\n",
       "<style scoped>\n",
       "    .dataframe tbody tr th:only-of-type {\n",
       "        vertical-align: middle;\n",
       "    }\n",
       "\n",
       "    .dataframe tbody tr th {\n",
       "        vertical-align: top;\n",
       "    }\n",
       "\n",
       "    .dataframe thead th {\n",
       "        text-align: right;\n",
       "    }\n",
       "</style>\n",
       "<table border=\"1\" class=\"dataframe\">\n",
       "  <thead>\n",
       "    <tr style=\"text-align: right;\">\n",
       "      <th></th>\n",
       "      <th>features</th>\n",
       "      <th>estimatedCoeffs</th>\n",
       "    </tr>\n",
       "  </thead>\n",
       "  <tbody>\n",
       "    <tr>\n",
       "      <th>0</th>\n",
       "      <td>zn</td>\n",
       "      <td>0.046256</td>\n",
       "    </tr>\n",
       "    <tr>\n",
       "      <th>1</th>\n",
       "      <td>indus</td>\n",
       "      <td>-0.055343</td>\n",
       "    </tr>\n",
       "    <tr>\n",
       "      <th>2</th>\n",
       "      <td>chas</td>\n",
       "      <td>-0.640865</td>\n",
       "    </tr>\n",
       "    <tr>\n",
       "      <th>3</th>\n",
       "      <td>nox</td>\n",
       "      <td>-9.467571</td>\n",
       "    </tr>\n",
       "    <tr>\n",
       "      <th>4</th>\n",
       "      <td>rm</td>\n",
       "      <td>1.125323</td>\n",
       "    </tr>\n",
       "    <tr>\n",
       "      <th>5</th>\n",
       "      <td>age</td>\n",
       "      <td>-0.008208</td>\n",
       "    </tr>\n",
       "    <tr>\n",
       "      <th>6</th>\n",
       "      <td>dis</td>\n",
       "      <td>-1.090709</td>\n",
       "    </tr>\n",
       "    <tr>\n",
       "      <th>7</th>\n",
       "      <td>rad</td>\n",
       "      <td>0.585564</td>\n",
       "    </tr>\n",
       "    <tr>\n",
       "      <th>8</th>\n",
       "      <td>tax</td>\n",
       "      <td>-0.003239</td>\n",
       "    </tr>\n",
       "    <tr>\n",
       "      <th>9</th>\n",
       "      <td>ptratio</td>\n",
       "      <td>-0.272739</td>\n",
       "    </tr>\n",
       "    <tr>\n",
       "      <th>10</th>\n",
       "      <td>black</td>\n",
       "      <td>0.000091</td>\n",
       "    </tr>\n",
       "    <tr>\n",
       "      <th>11</th>\n",
       "      <td>lstat</td>\n",
       "      <td>0.150300</td>\n",
       "    </tr>\n",
       "    <tr>\n",
       "      <th>12</th>\n",
       "      <td>medv</td>\n",
       "      <td>-0.246295</td>\n",
       "    </tr>\n",
       "  </tbody>\n",
       "</table>\n",
       "</div>"
      ],
      "text/plain": [
       "   features  estimatedCoeffs\n",
       "0        zn         0.046256\n",
       "1     indus        -0.055343\n",
       "2      chas        -0.640865\n",
       "3       nox        -9.467571\n",
       "4        rm         1.125323\n",
       "5       age        -0.008208\n",
       "6       dis        -1.090709\n",
       "7       rad         0.585564\n",
       "8       tax        -0.003239\n",
       "9   ptratio        -0.272739\n",
       "10    black         0.000091\n",
       "11    lstat         0.150300\n",
       "12     medv        -0.246295"
      ]
     },
     "execution_count": 18,
     "metadata": {},
     "output_type": "execute_result"
    }
   ],
   "source": [
    "pd.DataFrame(zip(X.columns, lm.coef_),\n",
    "columns=['features', 'estimatedCoeffs'])"
   ]
  },
  {
   "cell_type": "code",
   "execution_count": 19,
   "metadata": {},
   "outputs": [
    {
     "name": "stdout",
     "output_type": "stream",
     "text": [
      "Mean Squared Error:  34.4976\n",
      "Mean Absolute Error:  3.1484\n",
      "R-square:  0.4925\n"
     ]
    }
   ],
   "source": [
    "from sklearn.metrics import mean_squared_error, mean_absolute_error, r2_score\n",
    "mse = mean_squared_error(y_test,y_pred)\n",
    "print('Mean Squared Error: ',format(mse,'.4f'))\n",
    "mae = mean_absolute_error(y_test,y_pred)\n",
    "print('Mean Absolute Error: ',format(mae,'.4f'))\n",
    "rsq = r2_score(y_test,y_pred) #R-Squared on the testing data\n",
    "print('R-square: ',format(rsq,'.4f'))"
   ]
  },
  {
   "cell_type": "markdown",
   "metadata": {},
   "source": [
    "# OLS"
   ]
  },
  {
   "cell_type": "code",
   "execution_count": 20,
   "metadata": {},
   "outputs": [],
   "source": [
    "boston_data=pd.read_csv(\"Boston_Data.csv\")\n",
    "\n",
    "X = boston_data.drop('crim', axis = 1 )\n",
    "Y = boston_data['crim']"
   ]
  },
  {
   "cell_type": "code",
   "execution_count": 21,
   "metadata": {},
   "outputs": [],
   "source": [
    "from sklearn.model_selection import train_test_split\n",
    "#split dataset into train and test data\n",
    "x_train, x_test, y_train, y_test = train_test_split(X, Y, test_size=0.2,random_state=5)"
   ]
  },
  {
   "cell_type": "code",
   "execution_count": 22,
   "metadata": {},
   "outputs": [
    {
     "data": {
      "text/html": [
       "<table class=\"simpletable\">\n",
       "<caption>OLS Regression Results</caption>\n",
       "<tr>\n",
       "  <th>Dep. Variable:</th>          <td>crim</td>       <th>  R-squared (uncentered):</th>      <td>   0.516</td>\n",
       "</tr>\n",
       "<tr>\n",
       "  <th>Model:</th>                   <td>OLS</td>       <th>  Adj. R-squared (uncentered):</th> <td>   0.500</td>\n",
       "</tr>\n",
       "<tr>\n",
       "  <th>Method:</th>             <td>Least Squares</td>  <th>  F-statistic:       </th>          <td>   32.12</td>\n",
       "</tr>\n",
       "<tr>\n",
       "  <th>Date:</th>             <td>Sun, 03 Jan 2021</td> <th>  Prob (F-statistic):</th>          <td>8.50e-54</td>\n",
       "</tr>\n",
       "<tr>\n",
       "  <th>Time:</th>                 <td>17:40:47</td>     <th>  Log-Likelihood:    </th>          <td> -1330.7</td>\n",
       "</tr>\n",
       "<tr>\n",
       "  <th>No. Observations:</th>      <td>   404</td>      <th>  AIC:               </th>          <td>   2687.</td>\n",
       "</tr>\n",
       "<tr>\n",
       "  <th>Df Residuals:</th>          <td>   391</td>      <th>  BIC:               </th>          <td>   2739.</td>\n",
       "</tr>\n",
       "<tr>\n",
       "  <th>Df Model:</th>              <td>    13</td>      <th>                     </th>              <td> </td>   \n",
       "</tr>\n",
       "<tr>\n",
       "  <th>Covariance Type:</th>      <td>nonrobust</td>    <th>                     </th>              <td> </td>   \n",
       "</tr>\n",
       "</table>\n",
       "<table class=\"simpletable\">\n",
       "<tr>\n",
       "     <td></td>        <th>coef</th>     <th>std err</th>      <th>t</th>      <th>P>|t|</th>  <th>[0.025</th>    <th>0.975]</th>  \n",
       "</tr>\n",
       "<tr>\n",
       "  <th>zn</th>      <td>    0.0462</td> <td>    0.022</td> <td>    2.116</td> <td> 0.035</td> <td>    0.003</td> <td>    0.089</td>\n",
       "</tr>\n",
       "<tr>\n",
       "  <th>indus</th>   <td>   -0.0629</td> <td>    0.099</td> <td>   -0.634</td> <td> 0.527</td> <td>   -0.258</td> <td>    0.132</td>\n",
       "</tr>\n",
       "<tr>\n",
       "  <th>chas</th>    <td>   -0.6753</td> <td>    1.370</td> <td>   -0.493</td> <td> 0.622</td> <td>   -3.369</td> <td>    2.018</td>\n",
       "</tr>\n",
       "<tr>\n",
       "  <th>nox</th>     <td>   -4.9666</td> <td>    5.268</td> <td>   -0.943</td> <td> 0.346</td> <td>  -15.324</td> <td>    5.391</td>\n",
       "</tr>\n",
       "<tr>\n",
       "  <th>rm</th>      <td>    1.5966</td> <td>    0.584</td> <td>    2.735</td> <td> 0.007</td> <td>    0.449</td> <td>    2.744</td>\n",
       "</tr>\n",
       "<tr>\n",
       "  <th>age</th>     <td>   -0.0099</td> <td>    0.020</td> <td>   -0.496</td> <td> 0.620</td> <td>   -0.049</td> <td>    0.029</td>\n",
       "</tr>\n",
       "<tr>\n",
       "  <th>dis</th>     <td>   -0.9188</td> <td>    0.305</td> <td>   -3.010</td> <td> 0.003</td> <td>   -1.519</td> <td>   -0.319</td>\n",
       "</tr>\n",
       "<tr>\n",
       "  <th>rad</th>     <td>    0.5393</td> <td>    0.101</td> <td>    5.335</td> <td> 0.000</td> <td>    0.341</td> <td>    0.738</td>\n",
       "</tr>\n",
       "<tr>\n",
       "  <th>tax</th>     <td>   -0.0020</td> <td>    0.006</td> <td>   -0.324</td> <td> 0.746</td> <td>   -0.014</td> <td>    0.010</td>\n",
       "</tr>\n",
       "<tr>\n",
       "  <th>ptratio</th> <td>   -0.0930</td> <td>    0.165</td> <td>   -0.565</td> <td> 0.572</td> <td>   -0.417</td> <td>    0.231</td>\n",
       "</tr>\n",
       "<tr>\n",
       "  <th>black</th>   <td>    0.0014</td> <td>    0.004</td> <td>    0.329</td> <td> 0.743</td> <td>   -0.007</td> <td>    0.010</td>\n",
       "</tr>\n",
       "<tr>\n",
       "  <th>lstat</th>   <td>    0.1948</td> <td>    0.083</td> <td>    2.360</td> <td> 0.019</td> <td>    0.033</td> <td>    0.357</td>\n",
       "</tr>\n",
       "<tr>\n",
       "  <th>medv</th>    <td>   -0.2185</td> <td>    0.065</td> <td>   -3.358</td> <td> 0.001</td> <td>   -0.346</td> <td>   -0.091</td>\n",
       "</tr>\n",
       "</table>\n",
       "<table class=\"simpletable\">\n",
       "<tr>\n",
       "  <th>Omnibus:</th>       <td>558.189</td> <th>  Durbin-Watson:     </th> <td>   1.921</td> \n",
       "</tr>\n",
       "<tr>\n",
       "  <th>Prob(Omnibus):</th> <td> 0.000</td>  <th>  Jarque-Bera (JB):  </th> <td>74081.176</td>\n",
       "</tr>\n",
       "<tr>\n",
       "  <th>Skew:</th>          <td> 6.954</td>  <th>  Prob(JB):          </th> <td>    0.00</td> \n",
       "</tr>\n",
       "<tr>\n",
       "  <th>Kurtosis:</th>      <td>67.865</td>  <th>  Cond. No.          </th> <td>8.94e+03</td> \n",
       "</tr>\n",
       "</table><br/><br/>Warnings:<br/>[1] Standard Errors assume that the covariance matrix of the errors is correctly specified.<br/>[2] The condition number is large, 8.94e+03. This might indicate that there are<br/>strong multicollinearity or other numerical problems."
      ],
      "text/plain": [
       "<class 'statsmodels.iolib.summary.Summary'>\n",
       "\"\"\"\n",
       "                                 OLS Regression Results                                \n",
       "=======================================================================================\n",
       "Dep. Variable:                   crim   R-squared (uncentered):                   0.516\n",
       "Model:                            OLS   Adj. R-squared (uncentered):              0.500\n",
       "Method:                 Least Squares   F-statistic:                              32.12\n",
       "Date:                Sun, 03 Jan 2021   Prob (F-statistic):                    8.50e-54\n",
       "Time:                        17:40:47   Log-Likelihood:                         -1330.7\n",
       "No. Observations:                 404   AIC:                                      2687.\n",
       "Df Residuals:                     391   BIC:                                      2739.\n",
       "Df Model:                          13                                                  \n",
       "Covariance Type:            nonrobust                                                  \n",
       "==============================================================================\n",
       "                 coef    std err          t      P>|t|      [0.025      0.975]\n",
       "------------------------------------------------------------------------------\n",
       "zn             0.0462      0.022      2.116      0.035       0.003       0.089\n",
       "indus         -0.0629      0.099     -0.634      0.527      -0.258       0.132\n",
       "chas          -0.6753      1.370     -0.493      0.622      -3.369       2.018\n",
       "nox           -4.9666      5.268     -0.943      0.346     -15.324       5.391\n",
       "rm             1.5966      0.584      2.735      0.007       0.449       2.744\n",
       "age           -0.0099      0.020     -0.496      0.620      -0.049       0.029\n",
       "dis           -0.9188      0.305     -3.010      0.003      -1.519      -0.319\n",
       "rad            0.5393      0.101      5.335      0.000       0.341       0.738\n",
       "tax           -0.0020      0.006     -0.324      0.746      -0.014       0.010\n",
       "ptratio       -0.0930      0.165     -0.565      0.572      -0.417       0.231\n",
       "black          0.0014      0.004      0.329      0.743      -0.007       0.010\n",
       "lstat          0.1948      0.083      2.360      0.019       0.033       0.357\n",
       "medv          -0.2185      0.065     -3.358      0.001      -0.346      -0.091\n",
       "==============================================================================\n",
       "Omnibus:                      558.189   Durbin-Watson:                   1.921\n",
       "Prob(Omnibus):                  0.000   Jarque-Bera (JB):            74081.176\n",
       "Skew:                           6.954   Prob(JB):                         0.00\n",
       "Kurtosis:                      67.865   Cond. No.                     8.94e+03\n",
       "==============================================================================\n",
       "\n",
       "Warnings:\n",
       "[1] Standard Errors assume that the covariance matrix of the errors is correctly specified.\n",
       "[2] The condition number is large, 8.94e+03. This might indicate that there are\n",
       "strong multicollinearity or other numerical problems.\n",
       "\"\"\""
      ]
     },
     "execution_count": 22,
     "metadata": {},
     "output_type": "execute_result"
    }
   ],
   "source": [
    "import statsmodels.api as sm\n",
    "X= sm.add_constant(X)\n",
    "lm = sm.OLS(y_train, x_train)\n",
    "model = lm.fit()\n",
    "model.summary()"
   ]
  },
  {
   "cell_type": "code",
   "execution_count": 23,
   "metadata": {},
   "outputs": [
    {
     "data": {
      "text/plain": [
       "226     1.154347\n",
       "292     2.248750\n",
       "90      0.318734\n",
       "373    15.363973\n",
       "273    -1.159587\n",
       "         ...    \n",
       "349    -3.783979\n",
       "212     0.263266\n",
       "156     1.272883\n",
       "480     9.762081\n",
       "248    -0.532915\n",
       "Length: 102, dtype: float64"
      ]
     },
     "execution_count": 23,
     "metadata": {},
     "output_type": "execute_result"
    }
   ],
   "source": [
    "import statistics\n",
    "y_pred=model.predict(x_test)\n",
    "y_pred"
   ]
  },
  {
   "cell_type": "code",
   "execution_count": 24,
   "metadata": {},
   "outputs": [
    {
     "data": {
      "text/plain": [
       "226     0.38214\n",
       "292     0.03615\n",
       "90      0.04684\n",
       "373    11.10810\n",
       "273     0.22188\n",
       "         ...   \n",
       "349     0.02899\n",
       "212     0.21719\n",
       "156     2.44668\n",
       "480     5.82401\n",
       "248     0.16439\n",
       "Name: crim, Length: 102, dtype: float64"
      ]
     },
     "execution_count": 24,
     "metadata": {},
     "output_type": "execute_result"
    }
   ],
   "source": [
    "y_test"
   ]
  },
  {
   "cell_type": "code",
   "execution_count": 25,
   "metadata": {},
   "outputs": [
    {
     "name": "stdout",
     "output_type": "stream",
     "text": [
      "Mean Squared Error:  35.7552\n",
      "Mean Absolute Error:  3.0958\n",
      "R-square:  0.4740\n"
     ]
    }
   ],
   "source": [
    "from sklearn.metrics import mean_squared_error, mean_absolute_error, r2_score\n",
    "mse = mean_squared_error(y_test,y_pred)\n",
    "print('Mean Squared Error: ',format(mse,'.4f'))\n",
    "mae = mean_absolute_error(y_test,y_pred)\n",
    "print('Mean Absolute Error: ',format(mae,'.4f'))\n",
    "rsq = r2_score(y_test,y_pred) #R-Squared on the testing data\n",
    "print('R-square: ',format(rsq,'.4f'))"
   ]
  },
  {
   "cell_type": "markdown",
   "metadata": {},
   "source": [
    "# Best Subset"
   ]
  },
  {
   "cell_type": "code",
   "execution_count": 26,
   "metadata": {},
   "outputs": [],
   "source": [
    "import numpy as np\n",
    "import pandas as pd\n",
    "from sklearn.linear_model import LinearRegression\n",
    "from sklearn.metrics import mean_squared_error, mean_absolute_error, r2_score\n",
    "\n",
    "np.random.seed(0)\n",
    "boston_data=pd.read_csv(\"Boston_Data.csv\")"
   ]
  },
  {
   "cell_type": "code",
   "execution_count": 27,
   "metadata": {},
   "outputs": [],
   "source": [
    "X = boston_data.drop('crim', axis = 1 )\n",
    "Y = boston_data['crim']"
   ]
  },
  {
   "cell_type": "code",
   "execution_count": 28,
   "metadata": {},
   "outputs": [],
   "source": [
    "from sklearn.model_selection import train_test_split\n",
    "#split dataset into train and test data\n",
    "x_train, x_test, y_train, y_test = train_test_split(X, Y, test_size=0.2,random_state=5)"
   ]
  },
  {
   "cell_type": "code",
   "execution_count": 29,
   "metadata": {},
   "outputs": [
    {
     "name": "stderr",
     "output_type": "stream",
     "text": [
      "Features: 8191/8191"
     ]
    },
    {
     "name": "stdout",
     "output_type": "stream",
     "text": [
      "Best score: 43.72\n",
      "Best subset (indices): (0, 1, 3, 6, 7, 9, 12)\n",
      "Best subset (corresponding names): ('zn', 'indus', 'nox', 'dis', 'rad', 'ptratio', 'medv')\n"
     ]
    }
   ],
   "source": [
    "from mlxtend.feature_selection import ExhaustiveFeatureSelector as EFS\n",
    "# Create Linear Regression classifier\n",
    "lr = LinearRegression()\n",
    "efs = EFS(lr, \n",
    "          min_features=1,\n",
    "          max_features=13,\n",
    "          scoring='neg_mean_squared_error',\n",
    "          print_progress=True,\n",
    "          cv=5)\n",
    "\n",
    "feature_names = ('zn','indus','chas','nox','rm','age','dis','rad','tax','ptratio','black','lstat','medv')\n",
    "efs.fit(x_train, y_train, custom_feature_names = feature_names)\n",
    "\n",
    "print('Best score: %.2f' % (efs.best_score_*(-1)))\n",
    "print('Best subset (indices):', efs.best_idx_)\n",
    "print('Best subset (corresponding names):', efs.best_feature_names_)"
   ]
  },
  {
   "cell_type": "code",
   "execution_count": 30,
   "metadata": {},
   "outputs": [
    {
     "data": {
      "text/html": [
       "<div>\n",
       "<style scoped>\n",
       "    .dataframe tbody tr th:only-of-type {\n",
       "        vertical-align: middle;\n",
       "    }\n",
       "\n",
       "    .dataframe tbody tr th {\n",
       "        vertical-align: top;\n",
       "    }\n",
       "\n",
       "    .dataframe thead th {\n",
       "        text-align: right;\n",
       "    }\n",
       "</style>\n",
       "<table border=\"1\" class=\"dataframe\">\n",
       "  <thead>\n",
       "    <tr style=\"text-align: right;\">\n",
       "      <th></th>\n",
       "      <th>feature_idx</th>\n",
       "      <th>cv_scores</th>\n",
       "      <th>avg_score</th>\n",
       "      <th>feature_names</th>\n",
       "      <th>ci_bound</th>\n",
       "      <th>std_dev</th>\n",
       "      <th>std_err</th>\n",
       "    </tr>\n",
       "  </thead>\n",
       "  <tbody>\n",
       "    <tr>\n",
       "      <th>4402</th>\n",
       "      <td>(0, 1, 3, 6, 7, 9, 12)</td>\n",
       "      <td>[-52.51359742125518, -43.466805114785274, -13....</td>\n",
       "      <td>-43.7169</td>\n",
       "      <td>(zn, indus, nox, dis, rad, ptratio, medv)</td>\n",
       "      <td>29.8236</td>\n",
       "      <td>23.2038</td>\n",
       "      <td>11.6019</td>\n",
       "    </tr>\n",
       "    <tr>\n",
       "      <th>6139</th>\n",
       "      <td>(0, 1, 3, 5, 6, 7, 9, 12)</td>\n",
       "      <td>[-52.52830604755901, -43.45409256063654, -13.4...</td>\n",
       "      <td>-43.7231</td>\n",
       "      <td>(zn, indus, nox, age, dis, rad, ptratio, medv)</td>\n",
       "      <td>29.8107</td>\n",
       "      <td>23.1937</td>\n",
       "      <td>11.5969</td>\n",
       "    </tr>\n",
       "    <tr>\n",
       "      <th>6176</th>\n",
       "      <td>(0, 1, 3, 6, 7, 9, 11, 12)</td>\n",
       "      <td>[-52.352080530799505, -43.28814655137979, -13....</td>\n",
       "      <td>-43.7364</td>\n",
       "      <td>(zn, indus, nox, dis, rad, ptratio, lstat, medv)</td>\n",
       "      <td>30.0204</td>\n",
       "      <td>23.3569</td>\n",
       "      <td>11.6784</td>\n",
       "    </tr>\n",
       "    <tr>\n",
       "      <th>7372</th>\n",
       "      <td>(0, 1, 3, 5, 6, 7, 9, 11, 12)</td>\n",
       "      <td>[-52.34337926718055, -43.323192063845916, -13....</td>\n",
       "      <td>-43.7457</td>\n",
       "      <td>(zn, indus, nox, age, dis, rad, ptratio, lstat...</td>\n",
       "      <td>30.0438</td>\n",
       "      <td>23.3751</td>\n",
       "      <td>11.6875</td>\n",
       "    </tr>\n",
       "    <tr>\n",
       "      <th>7941</th>\n",
       "      <td>(0, 1, 3, 4, 5, 6, 7, 9, 11, 12)</td>\n",
       "      <td>[-53.837219591526164, -42.92088983350038, -13....</td>\n",
       "      <td>-43.7511</td>\n",
       "      <td>(zn, indus, nox, rm, age, dis, rad, ptratio, l...</td>\n",
       "      <td>29.909</td>\n",
       "      <td>23.2702</td>\n",
       "      <td>11.6351</td>\n",
       "    </tr>\n",
       "    <tr>\n",
       "      <th>...</th>\n",
       "      <td>...</td>\n",
       "      <td>...</td>\n",
       "      <td>...</td>\n",
       "      <td>...</td>\n",
       "      <td>...</td>\n",
       "      <td>...</td>\n",
       "      <td>...</td>\n",
       "    </tr>\n",
       "    <tr>\n",
       "      <th>14</th>\n",
       "      <td>(0, 2)</td>\n",
       "      <td>[-80.84686113410095, -71.43885070552142, -35.8...</td>\n",
       "      <td>-72.2719</td>\n",
       "      <td>(zn, chas)</td>\n",
       "      <td>39.2551</td>\n",
       "      <td>30.5418</td>\n",
       "      <td>15.2709</td>\n",
       "    </tr>\n",
       "    <tr>\n",
       "      <th>0</th>\n",
       "      <td>(0,)</td>\n",
       "      <td>[-80.90995512325793, -71.70107493902896, -36.0...</td>\n",
       "      <td>-72.4844</td>\n",
       "      <td>(zn,)</td>\n",
       "      <td>39.1908</td>\n",
       "      <td>30.4918</td>\n",
       "      <td>15.2459</td>\n",
       "    </tr>\n",
       "    <tr>\n",
       "      <th>37</th>\n",
       "      <td>(2, 4)</td>\n",
       "      <td>[-83.0130717042614, -71.21816788654426, -38.20...</td>\n",
       "      <td>-73.4423</td>\n",
       "      <td>(chas, rm)</td>\n",
       "      <td>41.2837</td>\n",
       "      <td>32.1201</td>\n",
       "      <td>16.0601</td>\n",
       "    </tr>\n",
       "    <tr>\n",
       "      <th>4</th>\n",
       "      <td>(4,)</td>\n",
       "      <td>[-82.83293882177517, -71.38919826773297, -38.4...</td>\n",
       "      <td>-73.4895</td>\n",
       "      <td>(rm,)</td>\n",
       "      <td>41.0982</td>\n",
       "      <td>31.9758</td>\n",
       "      <td>15.9879</td>\n",
       "    </tr>\n",
       "    <tr>\n",
       "      <th>2</th>\n",
       "      <td>(2,)</td>\n",
       "      <td>[-83.97513827863717, -74.81387506194277, -38.1...</td>\n",
       "      <td>-75.3822</td>\n",
       "      <td>(chas,)</td>\n",
       "      <td>39.797</td>\n",
       "      <td>30.9634</td>\n",
       "      <td>15.4817</td>\n",
       "    </tr>\n",
       "  </tbody>\n",
       "</table>\n",
       "<p>8191 rows × 7 columns</p>\n",
       "</div>"
      ],
      "text/plain": [
       "                           feature_idx  \\\n",
       "4402            (0, 1, 3, 6, 7, 9, 12)   \n",
       "6139         (0, 1, 3, 5, 6, 7, 9, 12)   \n",
       "6176        (0, 1, 3, 6, 7, 9, 11, 12)   \n",
       "7372     (0, 1, 3, 5, 6, 7, 9, 11, 12)   \n",
       "7941  (0, 1, 3, 4, 5, 6, 7, 9, 11, 12)   \n",
       "...                                ...   \n",
       "14                              (0, 2)   \n",
       "0                                 (0,)   \n",
       "37                              (2, 4)   \n",
       "4                                 (4,)   \n",
       "2                                 (2,)   \n",
       "\n",
       "                                              cv_scores avg_score  \\\n",
       "4402  [-52.51359742125518, -43.466805114785274, -13....  -43.7169   \n",
       "6139  [-52.52830604755901, -43.45409256063654, -13.4...  -43.7231   \n",
       "6176  [-52.352080530799505, -43.28814655137979, -13....  -43.7364   \n",
       "7372  [-52.34337926718055, -43.323192063845916, -13....  -43.7457   \n",
       "7941  [-53.837219591526164, -42.92088983350038, -13....  -43.7511   \n",
       "...                                                 ...       ...   \n",
       "14    [-80.84686113410095, -71.43885070552142, -35.8...  -72.2719   \n",
       "0     [-80.90995512325793, -71.70107493902896, -36.0...  -72.4844   \n",
       "37    [-83.0130717042614, -71.21816788654426, -38.20...  -73.4423   \n",
       "4     [-82.83293882177517, -71.38919826773297, -38.4...  -73.4895   \n",
       "2     [-83.97513827863717, -74.81387506194277, -38.1...  -75.3822   \n",
       "\n",
       "                                          feature_names ci_bound  std_dev  \\\n",
       "4402          (zn, indus, nox, dis, rad, ptratio, medv)  29.8236  23.2038   \n",
       "6139     (zn, indus, nox, age, dis, rad, ptratio, medv)  29.8107  23.1937   \n",
       "6176   (zn, indus, nox, dis, rad, ptratio, lstat, medv)  30.0204  23.3569   \n",
       "7372  (zn, indus, nox, age, dis, rad, ptratio, lstat...  30.0438  23.3751   \n",
       "7941  (zn, indus, nox, rm, age, dis, rad, ptratio, l...   29.909  23.2702   \n",
       "...                                                 ...      ...      ...   \n",
       "14                                           (zn, chas)  39.2551  30.5418   \n",
       "0                                                 (zn,)  39.1908  30.4918   \n",
       "37                                           (chas, rm)  41.2837  32.1201   \n",
       "4                                                 (rm,)  41.0982  31.9758   \n",
       "2                                               (chas,)   39.797  30.9634   \n",
       "\n",
       "      std_err  \n",
       "4402  11.6019  \n",
       "6139  11.5969  \n",
       "6176  11.6784  \n",
       "7372  11.6875  \n",
       "7941  11.6351  \n",
       "...       ...  \n",
       "14    15.2709  \n",
       "0     15.2459  \n",
       "37    16.0601  \n",
       "4     15.9879  \n",
       "2     15.4817  \n",
       "\n",
       "[8191 rows x 7 columns]"
      ]
     },
     "execution_count": 30,
     "metadata": {},
     "output_type": "execute_result"
    }
   ],
   "source": [
    "pd.DataFrame.from_dict(efs.get_metric_dict()).T.sort_values('avg_score',ascending=False)"
   ]
  },
  {
   "cell_type": "code",
   "execution_count": 31,
   "metadata": {},
   "outputs": [
    {
     "name": "stdout",
     "output_type": "stream",
     "text": [
      "MSE:  33.99\n",
      "R-square:  0.5000\n"
     ]
    }
   ],
   "source": [
    "x_train_selected = x_train.iloc[:,[0, 1, 3, 6, 7, 9, 12]]\n",
    "x_test_selected = x_test.iloc[:,[0, 1, 3, 6, 7, 9, 12]]\n",
    "lr.fit(x_train_selected,y_train)\n",
    "\n",
    "pred = lr.predict(x_test_selected)\n",
    "mse=mean_squared_error(y_test,pred)\n",
    "print('MSE: ', format(mse,'.2f'))\n",
    "rsq = r2_score(y_test,pred)\n",
    "print('R-square: ',format(rsq,'.4f'))"
   ]
  },
  {
   "cell_type": "markdown",
   "metadata": {},
   "source": [
    "# Forward Selection"
   ]
  },
  {
   "cell_type": "code",
   "execution_count": 32,
   "metadata": {},
   "outputs": [],
   "source": [
    "import numpy as np\n",
    "import pandas as pd\n",
    "from sklearn.linear_model import LinearRegression\n",
    "from sklearn.model_selection import train_test_split\n",
    "from sklearn.metrics import mean_squared_error, mean_absolute_error, r2_score\n",
    "from sklearn.linear_model import LinearRegression\n",
    "\n",
    "np.random.seed(0)\n",
    "boston_data=pd.read_csv(\"Boston_Data.csv\")\n",
    "\n",
    "X = boston_data.drop('crim', axis = 1 )\n",
    "Y = boston_data['crim']\n",
    "\n",
    "#split dataset into train and test data\n",
    "x_train, x_test, y_train, y_test = train_test_split(X, Y, test_size=0.2,random_state=5)"
   ]
  },
  {
   "cell_type": "code",
   "execution_count": 33,
   "metadata": {},
   "outputs": [],
   "source": [
    "from mlxtend.feature_selection import SequentialFeatureSelector as SFS\n",
    "lr = LinearRegression()\n",
    "\n",
    "sfs = SFS(lr, \n",
    "           k_features=13, \n",
    "           forward=True, \n",
    "           floating=False, \n",
    "           scoring='neg_mean_squared_error',\n",
    "           cv=5)\n",
    "\n",
    "feature_names = ('zn','indus','chas','nox','rm','age','dis','rad','tax','ptratio','black','lstat','medv')\n",
    "sfs = sfs.fit(x_train, y_train, custom_feature_names = feature_names)"
   ]
  },
  {
   "cell_type": "code",
   "execution_count": 34,
   "metadata": {},
   "outputs": [
    {
     "data": {
      "text/html": [
       "<div>\n",
       "<style scoped>\n",
       "    .dataframe tbody tr th:only-of-type {\n",
       "        vertical-align: middle;\n",
       "    }\n",
       "\n",
       "    .dataframe tbody tr th {\n",
       "        vertical-align: top;\n",
       "    }\n",
       "\n",
       "    .dataframe thead th {\n",
       "        text-align: right;\n",
       "    }\n",
       "</style>\n",
       "<table border=\"1\" class=\"dataframe\">\n",
       "  <thead>\n",
       "    <tr style=\"text-align: right;\">\n",
       "      <th></th>\n",
       "      <th>feature_idx</th>\n",
       "      <th>cv_scores</th>\n",
       "      <th>avg_score</th>\n",
       "      <th>feature_names</th>\n",
       "      <th>ci_bound</th>\n",
       "      <th>std_dev</th>\n",
       "      <th>std_err</th>\n",
       "    </tr>\n",
       "  </thead>\n",
       "  <tbody>\n",
       "    <tr>\n",
       "      <th>7</th>\n",
       "      <td>(0, 1, 3, 6, 7, 9, 12)</td>\n",
       "      <td>[-52.51359742125518, -43.466805114785274, -13....</td>\n",
       "      <td>-43.7169</td>\n",
       "      <td>(zn, indus, nox, dis, rad, ptratio, medv)</td>\n",
       "      <td>29.8236</td>\n",
       "      <td>23.2038</td>\n",
       "      <td>11.6019</td>\n",
       "    </tr>\n",
       "    <tr>\n",
       "      <th>8</th>\n",
       "      <td>(0, 1, 3, 5, 6, 7, 9, 12)</td>\n",
       "      <td>[-52.52830604755901, -43.45409256063654, -13.4...</td>\n",
       "      <td>-43.7231</td>\n",
       "      <td>(zn, indus, nox, age, dis, rad, ptratio, medv)</td>\n",
       "      <td>29.8107</td>\n",
       "      <td>23.1937</td>\n",
       "      <td>11.5969</td>\n",
       "    </tr>\n",
       "    <tr>\n",
       "      <th>9</th>\n",
       "      <td>(0, 1, 3, 5, 6, 7, 9, 11, 12)</td>\n",
       "      <td>[-52.34337926718055, -43.323192063845916, -13....</td>\n",
       "      <td>-43.7457</td>\n",
       "      <td>(zn, indus, nox, age, dis, rad, ptratio, lstat...</td>\n",
       "      <td>30.0438</td>\n",
       "      <td>23.3751</td>\n",
       "      <td>11.6875</td>\n",
       "    </tr>\n",
       "    <tr>\n",
       "      <th>10</th>\n",
       "      <td>(0, 1, 3, 4, 5, 6, 7, 9, 11, 12)</td>\n",
       "      <td>[-53.837219591526164, -42.92088983350038, -13....</td>\n",
       "      <td>-43.7511</td>\n",
       "      <td>(zn, indus, nox, rm, age, dis, rad, ptratio, l...</td>\n",
       "      <td>29.909</td>\n",
       "      <td>23.2702</td>\n",
       "      <td>11.6351</td>\n",
       "    </tr>\n",
       "    <tr>\n",
       "      <th>6</th>\n",
       "      <td>(0, 3, 6, 7, 9, 12)</td>\n",
       "      <td>[-52.62106066003739, -43.66312586113157, -13.2...</td>\n",
       "      <td>-43.7994</td>\n",
       "      <td>(zn, nox, dis, rad, ptratio, medv)</td>\n",
       "      <td>29.9464</td>\n",
       "      <td>23.2993</td>\n",
       "      <td>11.6497</td>\n",
       "    </tr>\n",
       "    <tr>\n",
       "      <th>11</th>\n",
       "      <td>(0, 1, 3, 4, 5, 6, 7, 8, 9, 11, 12)</td>\n",
       "      <td>[-53.78785076136719, -43.203014600239705, -13....</td>\n",
       "      <td>-43.8113</td>\n",
       "      <td>(zn, indus, nox, rm, age, dis, rad, tax, ptrat...</td>\n",
       "      <td>29.8744</td>\n",
       "      <td>23.2433</td>\n",
       "      <td>11.6216</td>\n",
       "    </tr>\n",
       "    <tr>\n",
       "      <th>12</th>\n",
       "      <td>(0, 1, 2, 3, 4, 5, 6, 7, 8, 9, 11, 12)</td>\n",
       "      <td>[-54.82453790889215, -43.153944921878534, -13....</td>\n",
       "      <td>-43.9744</td>\n",
       "      <td>(zn, indus, chas, nox, rm, age, dis, rad, tax,...</td>\n",
       "      <td>30.0217</td>\n",
       "      <td>23.3579</td>\n",
       "      <td>11.6789</td>\n",
       "    </tr>\n",
       "    <tr>\n",
       "      <th>5</th>\n",
       "      <td>(0, 6, 7, 9, 12)</td>\n",
       "      <td>[-52.69598737611883, -43.7750657507831, -13.73...</td>\n",
       "      <td>-44.0498</td>\n",
       "      <td>(zn, dis, rad, ptratio, medv)</td>\n",
       "      <td>30.4332</td>\n",
       "      <td>23.6781</td>\n",
       "      <td>11.839</td>\n",
       "    </tr>\n",
       "    <tr>\n",
       "      <th>4</th>\n",
       "      <td>(6, 7, 9, 12)</td>\n",
       "      <td>[-53.57278036005455, -44.393083887355594, -14....</td>\n",
       "      <td>-44.7268</td>\n",
       "      <td>(dis, rad, ptratio, medv)</td>\n",
       "      <td>30.8906</td>\n",
       "      <td>24.0339</td>\n",
       "      <td>12.017</td>\n",
       "    </tr>\n",
       "    <tr>\n",
       "      <th>3</th>\n",
       "      <td>(7, 9, 12)</td>\n",
       "      <td>[-53.7667698791167, -45.14186004066148, -14.11...</td>\n",
       "      <td>-45.0134</td>\n",
       "      <td>(rad, ptratio, medv)</td>\n",
       "      <td>31.01</td>\n",
       "      <td>24.1269</td>\n",
       "      <td>12.0634</td>\n",
       "    </tr>\n",
       "    <tr>\n",
       "      <th>13</th>\n",
       "      <td>(0, 1, 2, 3, 4, 5, 6, 7, 8, 9, 10, 11, 12)</td>\n",
       "      <td>[-57.974698093116885, -43.5975758769902, -13.6...</td>\n",
       "      <td>-45.1168</td>\n",
       "      <td>(zn, indus, chas, nox, rm, age, dis, rad, tax,...</td>\n",
       "      <td>30.4251</td>\n",
       "      <td>23.6718</td>\n",
       "      <td>11.8359</td>\n",
       "    </tr>\n",
       "    <tr>\n",
       "      <th>2</th>\n",
       "      <td>(7, 12)</td>\n",
       "      <td>[-54.196828541892366, -45.661999076259846, -14...</td>\n",
       "      <td>-45.4748</td>\n",
       "      <td>(rad, medv)</td>\n",
       "      <td>31.203</td>\n",
       "      <td>24.277</td>\n",
       "      <td>12.1385</td>\n",
       "    </tr>\n",
       "    <tr>\n",
       "      <th>1</th>\n",
       "      <td>(7,)</td>\n",
       "      <td>[-56.749759328068045, -48.231216582203096, -13...</td>\n",
       "      <td>-47.5744</td>\n",
       "      <td>(rad,)</td>\n",
       "      <td>32.429</td>\n",
       "      <td>25.2309</td>\n",
       "      <td>12.6154</td>\n",
       "    </tr>\n",
       "  </tbody>\n",
       "</table>\n",
       "</div>"
      ],
      "text/plain": [
       "                                   feature_idx  \\\n",
       "7                       (0, 1, 3, 6, 7, 9, 12)   \n",
       "8                    (0, 1, 3, 5, 6, 7, 9, 12)   \n",
       "9                (0, 1, 3, 5, 6, 7, 9, 11, 12)   \n",
       "10            (0, 1, 3, 4, 5, 6, 7, 9, 11, 12)   \n",
       "6                          (0, 3, 6, 7, 9, 12)   \n",
       "11         (0, 1, 3, 4, 5, 6, 7, 8, 9, 11, 12)   \n",
       "12      (0, 1, 2, 3, 4, 5, 6, 7, 8, 9, 11, 12)   \n",
       "5                             (0, 6, 7, 9, 12)   \n",
       "4                                (6, 7, 9, 12)   \n",
       "3                                   (7, 9, 12)   \n",
       "13  (0, 1, 2, 3, 4, 5, 6, 7, 8, 9, 10, 11, 12)   \n",
       "2                                      (7, 12)   \n",
       "1                                         (7,)   \n",
       "\n",
       "                                            cv_scores avg_score  \\\n",
       "7   [-52.51359742125518, -43.466805114785274, -13....  -43.7169   \n",
       "8   [-52.52830604755901, -43.45409256063654, -13.4...  -43.7231   \n",
       "9   [-52.34337926718055, -43.323192063845916, -13....  -43.7457   \n",
       "10  [-53.837219591526164, -42.92088983350038, -13....  -43.7511   \n",
       "6   [-52.62106066003739, -43.66312586113157, -13.2...  -43.7994   \n",
       "11  [-53.78785076136719, -43.203014600239705, -13....  -43.8113   \n",
       "12  [-54.82453790889215, -43.153944921878534, -13....  -43.9744   \n",
       "5   [-52.69598737611883, -43.7750657507831, -13.73...  -44.0498   \n",
       "4   [-53.57278036005455, -44.393083887355594, -14....  -44.7268   \n",
       "3   [-53.7667698791167, -45.14186004066148, -14.11...  -45.0134   \n",
       "13  [-57.974698093116885, -43.5975758769902, -13.6...  -45.1168   \n",
       "2   [-54.196828541892366, -45.661999076259846, -14...  -45.4748   \n",
       "1   [-56.749759328068045, -48.231216582203096, -13...  -47.5744   \n",
       "\n",
       "                                        feature_names ci_bound  std_dev  \\\n",
       "7           (zn, indus, nox, dis, rad, ptratio, medv)  29.8236  23.2038   \n",
       "8      (zn, indus, nox, age, dis, rad, ptratio, medv)  29.8107  23.1937   \n",
       "9   (zn, indus, nox, age, dis, rad, ptratio, lstat...  30.0438  23.3751   \n",
       "10  (zn, indus, nox, rm, age, dis, rad, ptratio, l...   29.909  23.2702   \n",
       "6                  (zn, nox, dis, rad, ptratio, medv)  29.9464  23.2993   \n",
       "11  (zn, indus, nox, rm, age, dis, rad, tax, ptrat...  29.8744  23.2433   \n",
       "12  (zn, indus, chas, nox, rm, age, dis, rad, tax,...  30.0217  23.3579   \n",
       "5                       (zn, dis, rad, ptratio, medv)  30.4332  23.6781   \n",
       "4                           (dis, rad, ptratio, medv)  30.8906  24.0339   \n",
       "3                                (rad, ptratio, medv)    31.01  24.1269   \n",
       "13  (zn, indus, chas, nox, rm, age, dis, rad, tax,...  30.4251  23.6718   \n",
       "2                                         (rad, medv)   31.203   24.277   \n",
       "1                                              (rad,)   32.429  25.2309   \n",
       "\n",
       "    std_err  \n",
       "7   11.6019  \n",
       "8   11.5969  \n",
       "9   11.6875  \n",
       "10  11.6351  \n",
       "6   11.6497  \n",
       "11  11.6216  \n",
       "12  11.6789  \n",
       "5    11.839  \n",
       "4    12.017  \n",
       "3   12.0634  \n",
       "13  11.8359  \n",
       "2   12.1385  \n",
       "1   12.6154  "
      ]
     },
     "execution_count": 34,
     "metadata": {},
     "output_type": "execute_result"
    }
   ],
   "source": [
    "pd.DataFrame.from_dict(sfs.get_metric_dict()).T.sort_values('avg_score',ascending=False)"
   ]
  },
  {
   "cell_type": "code",
   "execution_count": 35,
   "metadata": {},
   "outputs": [
    {
     "name": "stdout",
     "output_type": "stream",
     "text": [
      "MSE:  33.99\n",
      "R-square:  0.5000\n"
     ]
    }
   ],
   "source": [
    "x_train_selected = x_train.iloc[:,[0, 1, 3, 6, 7, 9, 12]]\n",
    "x_test_selected = x_test.iloc[:,[0, 1, 3, 6, 7, 9, 12]]\n",
    "lr.fit(x_train_selected,y_train)\n",
    "\n",
    "pred = lr.predict(x_test_selected)\n",
    "mse=mean_squared_error(y_test,pred)\n",
    "print('MSE: ', format(mse,'.2f'))\n",
    "rsq = r2_score(y_test,pred)\n",
    "print('R-square: ',format(rsq,'.4f'))"
   ]
  },
  {
   "cell_type": "markdown",
   "metadata": {},
   "source": [
    "# Backward Selection"
   ]
  },
  {
   "cell_type": "code",
   "execution_count": 36,
   "metadata": {},
   "outputs": [],
   "source": [
    "import numpy as np\n",
    "import pandas as pd\n",
    "from sklearn.linear_model import LinearRegression\n",
    "from sklearn.model_selection import train_test_split\n",
    "from sklearn.metrics import mean_squared_error, mean_absolute_error, r2_score\n",
    "from sklearn.linear_model import LinearRegression\n",
    "\n",
    "np.random.seed(0)\n",
    "boston_data=pd.read_csv(\"Boston_Data.csv\")\n",
    "\n",
    "X = boston_data.drop('crim', axis = 1 )\n",
    "Y = boston_data['crim']\n",
    "\n",
    "#split dataset into train and test data\n",
    "x_train, x_test, y_train, y_test = train_test_split(X, Y, test_size=0.2,random_state=5)"
   ]
  },
  {
   "cell_type": "code",
   "execution_count": 37,
   "metadata": {},
   "outputs": [],
   "source": [
    "from mlxtend.feature_selection import SequentialFeatureSelector as SFS\n",
    "lr = LinearRegression()\n",
    "\n",
    "sfs = SFS(lr, \n",
    "           k_features=1, \n",
    "           forward=False, \n",
    "           floating=False, \n",
    "           scoring='neg_mean_squared_error',\n",
    "           cv=5)\n",
    "\n",
    "feature_names = ('zn','indus','chas','nox','rm','age','dis','rad','tax','ptratio','black','lstat','medv')\n",
    "sfs = sfs.fit(x_train, y_train, custom_feature_names = feature_names)"
   ]
  },
  {
   "cell_type": "code",
   "execution_count": 38,
   "metadata": {},
   "outputs": [
    {
     "data": {
      "text/html": [
       "<div>\n",
       "<style scoped>\n",
       "    .dataframe tbody tr th:only-of-type {\n",
       "        vertical-align: middle;\n",
       "    }\n",
       "\n",
       "    .dataframe tbody tr th {\n",
       "        vertical-align: top;\n",
       "    }\n",
       "\n",
       "    .dataframe thead th {\n",
       "        text-align: right;\n",
       "    }\n",
       "</style>\n",
       "<table border=\"1\" class=\"dataframe\">\n",
       "  <thead>\n",
       "    <tr style=\"text-align: right;\">\n",
       "      <th></th>\n",
       "      <th>feature_idx</th>\n",
       "      <th>cv_scores</th>\n",
       "      <th>avg_score</th>\n",
       "      <th>feature_names</th>\n",
       "      <th>ci_bound</th>\n",
       "      <th>std_dev</th>\n",
       "      <th>std_err</th>\n",
       "    </tr>\n",
       "  </thead>\n",
       "  <tbody>\n",
       "    <tr>\n",
       "      <th>7</th>\n",
       "      <td>(0, 1, 3, 6, 7, 9, 12)</td>\n",
       "      <td>[-52.51359742125518, -43.466805114785274, -13....</td>\n",
       "      <td>-43.7169</td>\n",
       "      <td>(zn, indus, nox, dis, rad, ptratio, medv)</td>\n",
       "      <td>29.8236</td>\n",
       "      <td>23.2038</td>\n",
       "      <td>11.6019</td>\n",
       "    </tr>\n",
       "    <tr>\n",
       "      <th>8</th>\n",
       "      <td>(0, 1, 3, 5, 6, 7, 9, 12)</td>\n",
       "      <td>[-52.52830604755901, -43.45409256063654, -13.4...</td>\n",
       "      <td>-43.7231</td>\n",
       "      <td>(zn, indus, nox, age, dis, rad, ptratio, medv)</td>\n",
       "      <td>29.8107</td>\n",
       "      <td>23.1937</td>\n",
       "      <td>11.5969</td>\n",
       "    </tr>\n",
       "    <tr>\n",
       "      <th>9</th>\n",
       "      <td>(0, 1, 3, 5, 6, 7, 9, 11, 12)</td>\n",
       "      <td>[-52.34337926718055, -43.323192063845916, -13....</td>\n",
       "      <td>-43.7457</td>\n",
       "      <td>(zn, indus, nox, age, dis, rad, ptratio, lstat...</td>\n",
       "      <td>30.0438</td>\n",
       "      <td>23.3751</td>\n",
       "      <td>11.6875</td>\n",
       "    </tr>\n",
       "    <tr>\n",
       "      <th>10</th>\n",
       "      <td>(0, 1, 3, 4, 5, 6, 7, 9, 11, 12)</td>\n",
       "      <td>[-53.837219591526164, -42.92088983350038, -13....</td>\n",
       "      <td>-43.7511</td>\n",
       "      <td>(zn, indus, nox, rm, age, dis, rad, ptratio, l...</td>\n",
       "      <td>29.909</td>\n",
       "      <td>23.2702</td>\n",
       "      <td>11.6351</td>\n",
       "    </tr>\n",
       "    <tr>\n",
       "      <th>6</th>\n",
       "      <td>(0, 3, 6, 7, 9, 12)</td>\n",
       "      <td>[-52.62106066003739, -43.66312586113157, -13.2...</td>\n",
       "      <td>-43.7994</td>\n",
       "      <td>(zn, nox, dis, rad, ptratio, medv)</td>\n",
       "      <td>29.9464</td>\n",
       "      <td>23.2993</td>\n",
       "      <td>11.6497</td>\n",
       "    </tr>\n",
       "    <tr>\n",
       "      <th>11</th>\n",
       "      <td>(0, 1, 3, 4, 5, 6, 7, 8, 9, 11, 12)</td>\n",
       "      <td>[-53.78785076136719, -43.203014600239705, -13....</td>\n",
       "      <td>-43.8113</td>\n",
       "      <td>(zn, indus, nox, rm, age, dis, rad, tax, ptrat...</td>\n",
       "      <td>29.8744</td>\n",
       "      <td>23.2433</td>\n",
       "      <td>11.6216</td>\n",
       "    </tr>\n",
       "    <tr>\n",
       "      <th>12</th>\n",
       "      <td>(0, 1, 2, 3, 4, 5, 6, 7, 8, 9, 11, 12)</td>\n",
       "      <td>[-54.82453790889215, -43.153944921878534, -13....</td>\n",
       "      <td>-43.9744</td>\n",
       "      <td>(zn, indus, chas, nox, rm, age, dis, rad, tax,...</td>\n",
       "      <td>30.0217</td>\n",
       "      <td>23.3579</td>\n",
       "      <td>11.6789</td>\n",
       "    </tr>\n",
       "    <tr>\n",
       "      <th>5</th>\n",
       "      <td>(0, 3, 6, 7, 12)</td>\n",
       "      <td>[-52.907640825153806, -44.055988724012366, -13...</td>\n",
       "      <td>-44.019</td>\n",
       "      <td>(zn, nox, dis, rad, medv)</td>\n",
       "      <td>30.2374</td>\n",
       "      <td>23.5258</td>\n",
       "      <td>11.7629</td>\n",
       "    </tr>\n",
       "    <tr>\n",
       "      <th>4</th>\n",
       "      <td>(0, 6, 7, 12)</td>\n",
       "      <td>[-52.87287024757742, -44.01328876736528, -13.9...</td>\n",
       "      <td>-44.1661</td>\n",
       "      <td>(zn, dis, rad, medv)</td>\n",
       "      <td>30.501</td>\n",
       "      <td>23.7309</td>\n",
       "      <td>11.8654</td>\n",
       "    </tr>\n",
       "    <tr>\n",
       "      <th>13</th>\n",
       "      <td>(0, 1, 2, 3, 4, 5, 6, 7, 8, 9, 10, 11, 12)</td>\n",
       "      <td>[-57.974698093116885, -43.5975758769902, -13.6...</td>\n",
       "      <td>-45.1168</td>\n",
       "      <td>(zn, indus, chas, nox, rm, age, dis, rad, tax,...</td>\n",
       "      <td>30.4251</td>\n",
       "      <td>23.6718</td>\n",
       "      <td>11.8359</td>\n",
       "    </tr>\n",
       "    <tr>\n",
       "      <th>3</th>\n",
       "      <td>(6, 7, 12)</td>\n",
       "      <td>[-54.22395704696696, -44.85345410473852, -14.4...</td>\n",
       "      <td>-45.1533</td>\n",
       "      <td>(dis, rad, medv)</td>\n",
       "      <td>31.1425</td>\n",
       "      <td>24.2299</td>\n",
       "      <td>12.1149</td>\n",
       "    </tr>\n",
       "    <tr>\n",
       "      <th>2</th>\n",
       "      <td>(7, 12)</td>\n",
       "      <td>[-54.196828541892366, -45.661999076259846, -14...</td>\n",
       "      <td>-45.4748</td>\n",
       "      <td>(rad, medv)</td>\n",
       "      <td>31.203</td>\n",
       "      <td>24.277</td>\n",
       "      <td>12.1385</td>\n",
       "    </tr>\n",
       "    <tr>\n",
       "      <th>1</th>\n",
       "      <td>(7,)</td>\n",
       "      <td>[-56.749759328068045, -48.231216582203096, -13...</td>\n",
       "      <td>-47.5744</td>\n",
       "      <td>(rad,)</td>\n",
       "      <td>32.429</td>\n",
       "      <td>25.2309</td>\n",
       "      <td>12.6154</td>\n",
       "    </tr>\n",
       "  </tbody>\n",
       "</table>\n",
       "</div>"
      ],
      "text/plain": [
       "                                   feature_idx  \\\n",
       "7                       (0, 1, 3, 6, 7, 9, 12)   \n",
       "8                    (0, 1, 3, 5, 6, 7, 9, 12)   \n",
       "9                (0, 1, 3, 5, 6, 7, 9, 11, 12)   \n",
       "10            (0, 1, 3, 4, 5, 6, 7, 9, 11, 12)   \n",
       "6                          (0, 3, 6, 7, 9, 12)   \n",
       "11         (0, 1, 3, 4, 5, 6, 7, 8, 9, 11, 12)   \n",
       "12      (0, 1, 2, 3, 4, 5, 6, 7, 8, 9, 11, 12)   \n",
       "5                             (0, 3, 6, 7, 12)   \n",
       "4                                (0, 6, 7, 12)   \n",
       "13  (0, 1, 2, 3, 4, 5, 6, 7, 8, 9, 10, 11, 12)   \n",
       "3                                   (6, 7, 12)   \n",
       "2                                      (7, 12)   \n",
       "1                                         (7,)   \n",
       "\n",
       "                                            cv_scores avg_score  \\\n",
       "7   [-52.51359742125518, -43.466805114785274, -13....  -43.7169   \n",
       "8   [-52.52830604755901, -43.45409256063654, -13.4...  -43.7231   \n",
       "9   [-52.34337926718055, -43.323192063845916, -13....  -43.7457   \n",
       "10  [-53.837219591526164, -42.92088983350038, -13....  -43.7511   \n",
       "6   [-52.62106066003739, -43.66312586113157, -13.2...  -43.7994   \n",
       "11  [-53.78785076136719, -43.203014600239705, -13....  -43.8113   \n",
       "12  [-54.82453790889215, -43.153944921878534, -13....  -43.9744   \n",
       "5   [-52.907640825153806, -44.055988724012366, -13...   -44.019   \n",
       "4   [-52.87287024757742, -44.01328876736528, -13.9...  -44.1661   \n",
       "13  [-57.974698093116885, -43.5975758769902, -13.6...  -45.1168   \n",
       "3   [-54.22395704696696, -44.85345410473852, -14.4...  -45.1533   \n",
       "2   [-54.196828541892366, -45.661999076259846, -14...  -45.4748   \n",
       "1   [-56.749759328068045, -48.231216582203096, -13...  -47.5744   \n",
       "\n",
       "                                        feature_names ci_bound  std_dev  \\\n",
       "7           (zn, indus, nox, dis, rad, ptratio, medv)  29.8236  23.2038   \n",
       "8      (zn, indus, nox, age, dis, rad, ptratio, medv)  29.8107  23.1937   \n",
       "9   (zn, indus, nox, age, dis, rad, ptratio, lstat...  30.0438  23.3751   \n",
       "10  (zn, indus, nox, rm, age, dis, rad, ptratio, l...   29.909  23.2702   \n",
       "6                  (zn, nox, dis, rad, ptratio, medv)  29.9464  23.2993   \n",
       "11  (zn, indus, nox, rm, age, dis, rad, tax, ptrat...  29.8744  23.2433   \n",
       "12  (zn, indus, chas, nox, rm, age, dis, rad, tax,...  30.0217  23.3579   \n",
       "5                           (zn, nox, dis, rad, medv)  30.2374  23.5258   \n",
       "4                                (zn, dis, rad, medv)   30.501  23.7309   \n",
       "13  (zn, indus, chas, nox, rm, age, dis, rad, tax,...  30.4251  23.6718   \n",
       "3                                    (dis, rad, medv)  31.1425  24.2299   \n",
       "2                                         (rad, medv)   31.203   24.277   \n",
       "1                                              (rad,)   32.429  25.2309   \n",
       "\n",
       "    std_err  \n",
       "7   11.6019  \n",
       "8   11.5969  \n",
       "9   11.6875  \n",
       "10  11.6351  \n",
       "6   11.6497  \n",
       "11  11.6216  \n",
       "12  11.6789  \n",
       "5   11.7629  \n",
       "4   11.8654  \n",
       "13  11.8359  \n",
       "3   12.1149  \n",
       "2   12.1385  \n",
       "1   12.6154  "
      ]
     },
     "execution_count": 38,
     "metadata": {},
     "output_type": "execute_result"
    }
   ],
   "source": [
    "pd.DataFrame.from_dict(sfs.get_metric_dict()).T.sort_values('avg_score',ascending=False)"
   ]
  },
  {
   "cell_type": "code",
   "execution_count": 39,
   "metadata": {},
   "outputs": [
    {
     "name": "stdout",
     "output_type": "stream",
     "text": [
      "MSE:  33.99\n",
      "R-square:  0.5000\n"
     ]
    }
   ],
   "source": [
    "x_train_selected = x_train.iloc[:,[0, 1, 3, 6, 7, 9, 12]]\n",
    "x_test_selected = x_test.iloc[:,[0, 1, 3, 6, 7, 9, 12]]\n",
    "lr.fit(x_train_selected,y_train)\n",
    "\n",
    "pred = lr.predict(x_test_selected)\n",
    "mse=mean_squared_error(y_test,pred)\n",
    "rsq = r2_score(y_test,pred)\n",
    "print('MSE: ', format(mse,'.2f'))\n",
    "print('R-square: ',format(rsq,'.4f'))"
   ]
  },
  {
   "cell_type": "markdown",
   "metadata": {},
   "source": [
    "# Ridge Regression"
   ]
  },
  {
   "cell_type": "code",
   "execution_count": 40,
   "metadata": {},
   "outputs": [],
   "source": [
    "%matplotlib inline\n",
    "\n",
    "import pandas as pd\n",
    "import numpy as np\n",
    "import matplotlib.pyplot as plt\n",
    "\n",
    "from sklearn.preprocessing import scale \n",
    "from sklearn.model_selection import train_test_split\n",
    "from sklearn.linear_model import Ridge, RidgeCV, Lasso, LassoCV\n",
    "from sklearn.metrics import mean_squared_error\n",
    "\n",
    "np.random.seed(0)\n",
    "boston_data=pd.read_csv(\"Boston_Data.csv\")\n",
    "\n",
    "X = boston_data.drop('crim', axis = 1 )\n",
    "Y = boston_data['crim']"
   ]
  },
  {
   "cell_type": "code",
   "execution_count": 41,
   "metadata": {},
   "outputs": [
    {
     "data": {
      "text/plain": [
       "array([5.00000000e+04, 4.24876718e+04, 3.61040451e+04, 3.06795364e+04,\n",
       "       2.60700414e+04, 2.21531073e+04, 1.88246790e+04, 1.59963357e+04,\n",
       "       1.35929412e+04, 1.15506485e+04, 9.81520325e+03, 8.34050269e+03,\n",
       "       7.08737081e+03, 6.02251770e+03, 5.11765511e+03, 4.34874501e+03,\n",
       "       3.69536102e+03, 3.14014572e+03, 2.66834962e+03, 2.26743925e+03,\n",
       "       1.92676430e+03, 1.63727458e+03, 1.39127970e+03, 1.18224471e+03,\n",
       "       1.00461650e+03, 8.53676324e+02, 7.25414389e+02, 6.16423370e+02,\n",
       "       5.23807876e+02, 4.45107543e+02, 3.78231664e+02, 3.21403656e+02,\n",
       "       2.73113861e+02, 2.32079442e+02, 1.97210303e+02, 1.67580133e+02,\n",
       "       1.42401793e+02, 1.21006413e+02, 1.02825615e+02, 8.73764200e+01,\n",
       "       7.42484131e+01, 6.30928442e+01, 5.36133611e+01, 4.55581378e+01,\n",
       "       3.87131841e+01, 3.28966612e+01, 2.79540509e+01, 2.37540508e+01,\n",
       "       2.01850863e+01, 1.71523464e+01, 1.45752653e+01, 1.23853818e+01,\n",
       "       1.05245207e+01, 8.94324765e+00, 7.59955541e+00, 6.45774833e+00,\n",
       "       5.48749383e+00, 4.66301673e+00, 3.96241449e+00, 3.36707533e+00,\n",
       "       2.86118383e+00, 2.43130079e+00, 2.06600620e+00, 1.75559587e+00,\n",
       "       1.49182362e+00, 1.26768225e+00, 1.07721735e+00, 9.15369140e-01,\n",
       "       7.77838072e-01, 6.60970574e-01, 5.61662016e-01, 4.77274228e-01,\n",
       "       4.05565415e-01, 3.44630605e-01, 2.92851041e-01, 2.48851178e-01,\n",
       "       2.11462144e-01, 1.79690683e-01, 1.52692775e-01, 1.29751211e-01,\n",
       "       1.10256537e-01, 9.36908711e-02, 7.96141397e-02, 6.76523887e-02,\n",
       "       5.74878498e-02, 4.88504979e-02, 4.15108784e-02, 3.52740116e-02,\n",
       "       2.99742125e-02, 2.54706901e-02, 2.16438064e-02, 1.83918989e-02,\n",
       "       1.56285792e-02, 1.32804389e-02, 1.12850986e-02, 9.58955131e-03,\n",
       "       8.14875417e-03, 6.92443186e-03, 5.88405976e-03, 5.00000000e-03])"
      ]
     },
     "execution_count": 41,
     "metadata": {},
     "output_type": "execute_result"
    }
   ],
   "source": [
    "#The Ridge() function has an alpha argument ( λ , but with a different name!) that is used to tune the model. \n",
    "#We'll generate an array of alpha values ranging from very big to very small, essentially covering the full range of scenarios \n",
    "#from the null model containing only the intercept, to the least squares fit\n",
    "alphas = 10**np.linspace(5,-2,100)*0.5\n",
    "alphas"
   ]
  },
  {
   "cell_type": "code",
   "execution_count": 42,
   "metadata": {},
   "outputs": [],
   "source": [
    "from sklearn import preprocessing\n",
    "scaler = preprocessing.StandardScaler()\n",
    "Xscaled = scaler.fit_transform(X)"
   ]
  },
  {
   "cell_type": "code",
   "execution_count": 43,
   "metadata": {},
   "outputs": [
    {
     "data": {
      "text/plain": [
       "(100, 13)"
      ]
     },
     "execution_count": 43,
     "metadata": {},
     "output_type": "execute_result"
    }
   ],
   "source": [
    "ridge = Ridge()\n",
    "coefs = []\n",
    "\n",
    "for a in alphas:\n",
    "    ridge.set_params(alpha = a)\n",
    "    ridge.fit(Xscaled, Y)\n",
    "    coefs.append(ridge.coef_)\n",
    "np.shape(coefs)"
   ]
  },
  {
   "cell_type": "code",
   "execution_count": 44,
   "metadata": {},
   "outputs": [
    {
     "data": {
      "text/plain": [
       "Text(0, 0.5, 'weights')"
      ]
     },
     "execution_count": 44,
     "metadata": {},
     "output_type": "execute_result"
    },
    {
     "data": {
      "image/png": "[encoded data removed]",
      "text/plain": [
       "<Figure size 432x288 with 1 Axes>"
      ]
     },
     "metadata": {
      "needs_background": "light"
     },
     "output_type": "display_data"
    }
   ],
   "source": [
    "ax = plt.gca()\n",
    "ax.plot(alphas, coefs)\n",
    "ax.set_xscale('log')\n",
    "plt.axis('tight')\n",
    "plt.xlabel('alpha')\n",
    "plt.ylabel('weights')"
   ]
  },
  {
   "cell_type": "code",
   "execution_count": 45,
   "metadata": {},
   "outputs": [],
   "source": [
    "# Split data into training and test sets\n",
    "x_train, x_test , y_train, y_test = train_test_split(Xscaled, \n",
    "                                                     Y, \n",
    "                                                     test_size=0.2, \n",
    "                                                     random_state=5)"
   ]
  },
  {
   "cell_type": "code",
   "execution_count": 46,
   "metadata": {},
   "outputs": [
    {
     "data": {
      "text/html": [
       "<div>\n",
       "<style scoped>\n",
       "    .dataframe tbody tr th:only-of-type {\n",
       "        vertical-align: middle;\n",
       "    }\n",
       "\n",
       "    .dataframe tbody tr th {\n",
       "        vertical-align: top;\n",
       "    }\n",
       "\n",
       "    .dataframe thead th {\n",
       "        text-align: right;\n",
       "    }\n",
       "</style>\n",
       "<table border=\"1\" class=\"dataframe\">\n",
       "  <thead>\n",
       "    <tr style=\"text-align: right;\">\n",
       "      <th></th>\n",
       "      <th>Lambda</th>\n",
       "      <th>Validation Error</th>\n",
       "    </tr>\n",
       "  </thead>\n",
       "  <tbody>\n",
       "    <tr>\n",
       "      <th>0</th>\n",
       "      <td>0.01000</td>\n",
       "      <td>45.001739</td>\n",
       "    </tr>\n",
       "    <tr>\n",
       "      <th>1</th>\n",
       "      <td>0.11009</td>\n",
       "      <td>44.999480</td>\n",
       "    </tr>\n",
       "    <tr>\n",
       "      <th>2</th>\n",
       "      <td>0.21018</td>\n",
       "      <td>44.997294</td>\n",
       "    </tr>\n",
       "    <tr>\n",
       "      <th>3</th>\n",
       "      <td>0.31027</td>\n",
       "      <td>44.995177</td>\n",
       "    </tr>\n",
       "    <tr>\n",
       "      <th>4</th>\n",
       "      <td>0.41036</td>\n",
       "      <td>44.993130</td>\n",
       "    </tr>\n",
       "    <tr>\n",
       "      <th>...</th>\n",
       "      <td>...</td>\n",
       "      <td>...</td>\n",
       "    </tr>\n",
       "    <tr>\n",
       "      <th>995</th>\n",
       "      <td>99.59964</td>\n",
       "      <td>46.259900</td>\n",
       "    </tr>\n",
       "    <tr>\n",
       "      <th>996</th>\n",
       "      <td>99.69973</td>\n",
       "      <td>46.261177</td>\n",
       "    </tr>\n",
       "    <tr>\n",
       "      <th>997</th>\n",
       "      <td>99.79982</td>\n",
       "      <td>46.262454</td>\n",
       "    </tr>\n",
       "    <tr>\n",
       "      <th>998</th>\n",
       "      <td>99.89991</td>\n",
       "      <td>46.263730</td>\n",
       "    </tr>\n",
       "    <tr>\n",
       "      <th>999</th>\n",
       "      <td>100.00000</td>\n",
       "      <td>46.265005</td>\n",
       "    </tr>\n",
       "  </tbody>\n",
       "</table>\n",
       "<p>1000 rows × 2 columns</p>\n",
       "</div>"
      ],
      "text/plain": [
       "        Lambda  Validation Error\n",
       "0      0.01000         45.001739\n",
       "1      0.11009         44.999480\n",
       "2      0.21018         44.997294\n",
       "3      0.31027         44.995177\n",
       "4      0.41036         44.993130\n",
       "..         ...               ...\n",
       "995   99.59964         46.259900\n",
       "996   99.69973         46.261177\n",
       "997   99.79982         46.262454\n",
       "998   99.89991         46.263730\n",
       "999  100.00000         46.265005\n",
       "\n",
       "[1000 rows x 2 columns]"
      ]
     },
     "execution_count": 46,
     "metadata": {},
     "output_type": "execute_result"
    }
   ],
   "source": [
    "from sklearn.model_selection import cross_val_score\n",
    "from sklearn.model_selection import KFold\n",
    "lambdas = np.linspace(0.01,100,num=1000)\n",
    "scoresCV = []\n",
    "for l in lambdas:\n",
    "    RidgeReg = Ridge(alpha=l)\n",
    "    RidgeReg.fit(x_train, y_train)    \n",
    "    scoreCV = cross_val_score(RidgeReg, x_train, y_train, scoring='neg_mean_squared_error',\n",
    "                             cv=KFold(n_splits=10, shuffle=True,\n",
    "                                            random_state=1))\n",
    "    scoresCV.append([l,-1*np.mean(scoreCV)])\n",
    "df = pd.DataFrame(scoresCV,columns=['Lambda','Validation Error'])\n",
    "df"
   ]
  },
  {
   "cell_type": "code",
   "execution_count": 47,
   "metadata": {},
   "outputs": [
    {
     "data": {
      "text/plain": [
       "[<matplotlib.lines.Line2D at 0x7fea6db6b7d0>]"
      ]
     },
     "execution_count": 47,
     "metadata": {},
     "output_type": "execute_result"
    },
    {
     "data": {
      "image/png": "[encoded data removed]",
      "text/plain": [
       "<Figure size 432x288 with 1 Axes>"
      ]
     },
     "metadata": {
      "needs_background": "light"
     },
     "output_type": "display_data"
    }
   ],
   "source": [
    "plt.plot(df.Lambda,df['Validation Error'])"
   ]
  },
  {
   "cell_type": "code",
   "execution_count": 48,
   "metadata": {},
   "outputs": [
    {
     "name": "stdout",
     "output_type": "stream",
     "text": [
      "Best alpha: 7.5996\n"
     ]
    }
   ],
   "source": [
    "ridgecv = RidgeCV(alphas = alphas,cv = 10, scoring = 'neg_mean_squared_error')\n",
    "ridgecv.fit(x_train, y_train)\n",
    "print('Best alpha:', format(ridgecv.alpha_,'.4f'))"
   ]
  },
  {
   "cell_type": "code",
   "execution_count": 49,
   "metadata": {},
   "outputs": [
    {
     "name": "stdout",
     "output_type": "stream",
     "text": [
      "Mean Squared Error:  34.2990\n"
     ]
    }
   ],
   "source": [
    "ridgen = Ridge(alpha = ridgecv.alpha_)\n",
    "ridgen.fit(x_train, y_train)\n",
    "\n",
    "print('Mean Squared Error: ',format(mean_squared_error(y_test, ridgen.predict(x_test)),'.4f'))"
   ]
  },
  {
   "cell_type": "code",
   "execution_count": 50,
   "metadata": {},
   "outputs": [
    {
     "name": "stdout",
     "output_type": "stream",
     "text": [
      "R-square:  0.4955\n"
     ]
    }
   ],
   "source": [
    "print('R-square: ',format(ridgecv.score(x_test, y_test),'.4f'))"
   ]
  },
  {
   "cell_type": "code",
   "execution_count": 51,
   "metadata": {},
   "outputs": [
    {
     "data": {
      "text/plain": [
       "zn         0.045036\n",
       "indus     -0.101027\n",
       "chas      -0.696668\n",
       "nox       -1.684475\n",
       "rm         0.413291\n",
       "age       -0.005930\n",
       "dis       -0.830318\n",
       "rad        0.563736\n",
       "tax       -0.004048\n",
       "ptratio   -0.157175\n",
       "black     -0.007400\n",
       "lstat      0.129616\n",
       "medv      -0.178856\n",
       "dtype: float64"
      ]
     },
     "execution_count": 51,
     "metadata": {},
     "output_type": "execute_result"
    }
   ],
   "source": [
    "ridgen.fit(X, Y)\n",
    "pd.Series(ridgen.coef_, index = X.columns)"
   ]
  },
  {
   "cell_type": "markdown",
   "metadata": {},
   "source": [
    "# Lasso Regression"
   ]
  },
  {
   "cell_type": "code",
   "execution_count": 52,
   "metadata": {},
   "outputs": [],
   "source": [
    "%matplotlib inline\n",
    "\n",
    "import pandas as pd\n",
    "import numpy as np\n",
    "import matplotlib.pyplot as plt\n",
    "\n",
    "from sklearn.preprocessing import scale \n",
    "from sklearn.model_selection import train_test_split\n",
    "from sklearn.linear_model import Ridge, RidgeCV, Lasso, LassoCV\n",
    "from sklearn.metrics import mean_squared_error\n",
    "\n",
    "boston_data=pd.read_csv(\"Boston_Data.csv\")\n",
    "\n",
    "X = boston_data.drop('crim', axis = 1 )\n",
    "Y = boston_data['crim']\n",
    "\n",
    "from sklearn import preprocessing\n",
    "scaler = preprocessing.StandardScaler()\n",
    "Xscaled = scaler.fit_transform(X)\n",
    "\n",
    "# Split data into training and test sets\n",
    "x_train, x_test , y_train, y_test = train_test_split(Xscaled, \n",
    "                                                     Y, \n",
    "                                                     test_size=0.2, \n",
    "                                                     random_state=5)"
   ]
  },
  {
   "cell_type": "code",
   "execution_count": 53,
   "metadata": {},
   "outputs": [
    {
     "data": {
      "text/plain": [
       "Text(0, 0.5, 'weights')"
      ]
     },
     "execution_count": 53,
     "metadata": {},
     "output_type": "execute_result"
    },
    {
     "data": {
      "image/png": "[encoded data removed]",
      "text/plain": [
       "<Figure size 432x288 with 1 Axes>"
      ]
     },
     "metadata": {
      "needs_background": "light"
     },
     "output_type": "display_data"
    }
   ],
   "source": [
    "lasso = Lasso(max_iter = 10000)\n",
    "coefs = []\n",
    "\n",
    "for a in alphas:\n",
    "    lasso.set_params(alpha=a)\n",
    "    lasso.fit(scale(x_train), y_train)\n",
    "    coefs.append(lasso.coef_)\n",
    "    \n",
    "ax = plt.gca()\n",
    "ax.plot(alphas*2, coefs)\n",
    "ax.set_xscale('log')\n",
    "plt.axis('tight')\n",
    "plt.xlabel('alpha')\n",
    "plt.ylabel('weights')"
   ]
  },
  {
   "cell_type": "code",
   "execution_count": 54,
   "metadata": {},
   "outputs": [
    {
     "data": {
      "text/html": [
       "<div>\n",
       "<style scoped>\n",
       "    .dataframe tbody tr th:only-of-type {\n",
       "        vertical-align: middle;\n",
       "    }\n",
       "\n",
       "    .dataframe tbody tr th {\n",
       "        vertical-align: top;\n",
       "    }\n",
       "\n",
       "    .dataframe thead th {\n",
       "        text-align: right;\n",
       "    }\n",
       "</style>\n",
       "<table border=\"1\" class=\"dataframe\">\n",
       "  <thead>\n",
       "    <tr style=\"text-align: right;\">\n",
       "      <th></th>\n",
       "      <th>Lambda</th>\n",
       "      <th>Validation Error</th>\n",
       "    </tr>\n",
       "  </thead>\n",
       "  <tbody>\n",
       "    <tr>\n",
       "      <th>0</th>\n",
       "      <td>0.01000</td>\n",
       "      <td>44.966508</td>\n",
       "    </tr>\n",
       "    <tr>\n",
       "      <th>1</th>\n",
       "      <td>0.11009</td>\n",
       "      <td>45.143473</td>\n",
       "    </tr>\n",
       "    <tr>\n",
       "      <th>2</th>\n",
       "      <td>0.21018</td>\n",
       "      <td>45.468424</td>\n",
       "    </tr>\n",
       "    <tr>\n",
       "      <th>3</th>\n",
       "      <td>0.31027</td>\n",
       "      <td>45.929242</td>\n",
       "    </tr>\n",
       "    <tr>\n",
       "      <th>4</th>\n",
       "      <td>0.41036</td>\n",
       "      <td>46.205929</td>\n",
       "    </tr>\n",
       "    <tr>\n",
       "      <th>...</th>\n",
       "      <td>...</td>\n",
       "      <td>...</td>\n",
       "    </tr>\n",
       "    <tr>\n",
       "      <th>995</th>\n",
       "      <td>99.59964</td>\n",
       "      <td>75.851663</td>\n",
       "    </tr>\n",
       "    <tr>\n",
       "      <th>996</th>\n",
       "      <td>99.69973</td>\n",
       "      <td>75.851663</td>\n",
       "    </tr>\n",
       "    <tr>\n",
       "      <th>997</th>\n",
       "      <td>99.79982</td>\n",
       "      <td>75.851663</td>\n",
       "    </tr>\n",
       "    <tr>\n",
       "      <th>998</th>\n",
       "      <td>99.89991</td>\n",
       "      <td>75.851663</td>\n",
       "    </tr>\n",
       "    <tr>\n",
       "      <th>999</th>\n",
       "      <td>100.00000</td>\n",
       "      <td>75.851663</td>\n",
       "    </tr>\n",
       "  </tbody>\n",
       "</table>\n",
       "<p>1000 rows × 2 columns</p>\n",
       "</div>"
      ],
      "text/plain": [
       "        Lambda  Validation Error\n",
       "0      0.01000         44.966508\n",
       "1      0.11009         45.143473\n",
       "2      0.21018         45.468424\n",
       "3      0.31027         45.929242\n",
       "4      0.41036         46.205929\n",
       "..         ...               ...\n",
       "995   99.59964         75.851663\n",
       "996   99.69973         75.851663\n",
       "997   99.79982         75.851663\n",
       "998   99.89991         75.851663\n",
       "999  100.00000         75.851663\n",
       "\n",
       "[1000 rows x 2 columns]"
      ]
     },
     "execution_count": 54,
     "metadata": {},
     "output_type": "execute_result"
    }
   ],
   "source": [
    "from sklearn.model_selection import cross_val_score\n",
    "from sklearn.model_selection import KFold\n",
    "lambdas = np.linspace(0.01,100,num=1000)\n",
    "scoresCV = []\n",
    "for l in lambdas:\n",
    "    lassoReg = Lasso(alpha=l,max_iter=10000)\n",
    "    lassoReg.fit(x_train, y_train)    \n",
    "    scoreCV = cross_val_score(lassoReg, x_train, y_train, scoring='neg_mean_squared_error',\n",
    "                             cv=KFold(n_splits=10, shuffle=True,\n",
    "                                            random_state=1))\n",
    "    scoresCV.append([l,-1*np.mean(scoreCV)])\n",
    "df = pd.DataFrame(scoresCV,columns=['Lambda','Validation Error'])\n",
    "df"
   ]
  },
  {
   "cell_type": "code",
   "execution_count": 55,
   "metadata": {},
   "outputs": [
    {
     "data": {
      "text/plain": [
       "[<matplotlib.lines.Line2D at 0x7fea6e05f190>]"
      ]
     },
     "execution_count": 55,
     "metadata": {},
     "output_type": "execute_result"
    },
    {
     "data": {
      "image/png": "[encoded data removed]",
      "text/plain": [
       "<Figure size 432x288 with 1 Axes>"
      ]
     },
     "metadata": {
      "needs_background": "light"
     },
     "output_type": "display_data"
    }
   ],
   "source": [
    "plt.plot(df.Lambda,df['Validation Error'])"
   ]
  },
  {
   "cell_type": "code",
   "execution_count": 56,
   "metadata": {},
   "outputs": [
    {
     "data": {
      "text/plain": [
       "0.07008443320724542"
      ]
     },
     "execution_count": 56,
     "metadata": {},
     "output_type": "execute_result"
    }
   ],
   "source": [
    "lassocv = LassoCV(alphas = None, cv = 10, max_iter = 100000)\n",
    "lassocv.fit(x_train, y_train)\n",
    "lasso.set_params(alpha=lassocv.alpha_)\n",
    "lasso.fit(x_train, y_train)\n",
    "lassocv.alpha_"
   ]
  },
  {
   "cell_type": "code",
   "execution_count": 57,
   "metadata": {},
   "outputs": [
    {
     "name": "stdout",
     "output_type": "stream",
     "text": [
      "Mean Squared Error:  34.3226\n"
     ]
    }
   ],
   "source": [
    "print('Mean Squared Error: ',format(mean_squared_error(y_test, lasso.predict(x_test)),\".4f\"))"
   ]
  },
  {
   "cell_type": "code",
   "execution_count": 58,
   "metadata": {},
   "outputs": [
    {
     "name": "stdout",
     "output_type": "stream",
     "text": [
      "R-square:  0.4951\n"
     ]
    }
   ],
   "source": [
    "print('R-square: ',format(lassocv.score(x_test,y_test),\".4f\"))"
   ]
  },
  {
   "cell_type": "code",
   "execution_count": 59,
   "metadata": {},
   "outputs": [
    {
     "data": {
      "text/plain": [
       "zn         0.879566\n",
       "indus     -0.316678\n",
       "chas      -0.136829\n",
       "nox       -0.623877\n",
       "rm         0.589573\n",
       "age       -0.000000\n",
       "dis       -1.608497\n",
       "rad        4.435544\n",
       "tax       -0.000000\n",
       "ptratio   -0.376817\n",
       "black     -0.009476\n",
       "lstat      0.954277\n",
       "medv      -1.822338\n",
       "dtype: float64"
      ]
     },
     "execution_count": 59,
     "metadata": {},
     "output_type": "execute_result"
    }
   ],
   "source": [
    "pd.Series(lasso.coef_, index=X.columns)"
   ]
  },
  {
   "cell_type": "markdown",
   "metadata": {},
   "source": [
    "# KNN"
   ]
  },
  {
   "cell_type": "code",
   "execution_count": 60,
   "metadata": {},
   "outputs": [],
   "source": [
    "%matplotlib inline\n",
    "\n",
    "from sklearn.neighbors import KNeighborsRegressor\n",
    "import pandas as pd\n",
    "import numpy as np\n",
    "import matplotlib.pyplot as plt\n",
    "\n",
    "from sklearn.preprocessing import scale \n",
    "from sklearn.model_selection import train_test_split\n",
    "from sklearn.linear_model import Ridge, RidgeCV, Lasso, LassoCV\n",
    "from sklearn.metrics import mean_squared_error\n",
    "\n",
    "boston_data=pd.read_csv(\"Boston_Data.csv\")\n",
    "\n",
    "X = boston_data.drop('crim', axis = 1 )\n",
    "Y = boston_data['crim']\n",
    "\n",
    "from sklearn import preprocessing\n",
    "scaler = preprocessing.StandardScaler()\n",
    "Xscaled = scaler.fit_transform(X)\n",
    "\n",
    "# Split data into training and test sets\n",
    "x_train, x_test , y_train, y_test = train_test_split(Xscaled, Y, test_size=0.2, random_state=1)"
   ]
  },
  {
   "cell_type": "code",
   "execution_count": 61,
   "metadata": {},
   "outputs": [
    {
     "data": {
      "text/plain": [
       "404"
      ]
     },
     "execution_count": 61,
     "metadata": {},
     "output_type": "execute_result"
    }
   ],
   "source": [
    "len(x_train)"
   ]
  },
  {
   "cell_type": "code",
   "execution_count": 62,
   "metadata": {},
   "outputs": [
    {
     "data": {
      "text/html": [
       "<div>\n",
       "<style scoped>\n",
       "    .dataframe tbody tr th:only-of-type {\n",
       "        vertical-align: middle;\n",
       "    }\n",
       "\n",
       "    .dataframe tbody tr th {\n",
       "        vertical-align: top;\n",
       "    }\n",
       "\n",
       "    .dataframe thead th {\n",
       "        text-align: right;\n",
       "    }\n",
       "</style>\n",
       "<table border=\"1\" class=\"dataframe\">\n",
       "  <thead>\n",
       "    <tr style=\"text-align: right;\">\n",
       "      <th></th>\n",
       "      <th>k</th>\n",
       "      <th>score</th>\n",
       "    </tr>\n",
       "  </thead>\n",
       "  <tbody>\n",
       "    <tr>\n",
       "      <th>21</th>\n",
       "      <td>22</td>\n",
       "      <td>0.671416</td>\n",
       "    </tr>\n",
       "    <tr>\n",
       "      <th>20</th>\n",
       "      <td>21</td>\n",
       "      <td>0.665141</td>\n",
       "    </tr>\n",
       "    <tr>\n",
       "      <th>19</th>\n",
       "      <td>20</td>\n",
       "      <td>0.661580</td>\n",
       "    </tr>\n",
       "    <tr>\n",
       "      <th>18</th>\n",
       "      <td>19</td>\n",
       "      <td>0.660067</td>\n",
       "    </tr>\n",
       "    <tr>\n",
       "      <th>16</th>\n",
       "      <td>17</td>\n",
       "      <td>0.659402</td>\n",
       "    </tr>\n",
       "    <tr>\n",
       "      <th>...</th>\n",
       "      <td>...</td>\n",
       "      <td>...</td>\n",
       "    </tr>\n",
       "    <tr>\n",
       "      <th>401</th>\n",
       "      <td>402</td>\n",
       "      <td>0.007723</td>\n",
       "    </tr>\n",
       "    <tr>\n",
       "      <th>402</th>\n",
       "      <td>403</td>\n",
       "      <td>0.003171</td>\n",
       "    </tr>\n",
       "    <tr>\n",
       "      <th>403</th>\n",
       "      <td>404</td>\n",
       "      <td>-0.004867</td>\n",
       "    </tr>\n",
       "    <tr>\n",
       "      <th>1</th>\n",
       "      <td>2</td>\n",
       "      <td>-0.168559</td>\n",
       "    </tr>\n",
       "    <tr>\n",
       "      <th>0</th>\n",
       "      <td>1</td>\n",
       "      <td>-0.697791</td>\n",
       "    </tr>\n",
       "  </tbody>\n",
       "</table>\n",
       "<p>404 rows × 2 columns</p>\n",
       "</div>"
      ],
      "text/plain": [
       "       k     score\n",
       "21    22  0.671416\n",
       "20    21  0.665141\n",
       "19    20  0.661580\n",
       "18    19  0.660067\n",
       "16    17  0.659402\n",
       "..   ...       ...\n",
       "401  402  0.007723\n",
       "402  403  0.003171\n",
       "403  404 -0.004867\n",
       "1      2 -0.168559\n",
       "0      1 -0.697791\n",
       "\n",
       "[404 rows x 2 columns]"
      ]
     },
     "execution_count": 62,
     "metadata": {},
     "output_type": "execute_result"
    }
   ],
   "source": [
    "#for to find best k\n",
    "a_=[]\n",
    "for a in range(1,405):\n",
    "    a_.append(a)\n",
    "df=pd.DataFrame()\n",
    "scr=[]\n",
    "df[\"k\"]=a_\n",
    "for k in a_:\n",
    "    knn = KNeighborsRegressor(n_neighbors = k)\n",
    "    knn.fit(x_train,y_train)\n",
    "    scr_=knn.score(x_test, y_test)\n",
    "    scr.append(scr_)\n",
    "df[\"score\"]=scr\n",
    "df.sort_values(by=\"score\",ascending=False)"
   ]
  },
  {
   "cell_type": "code",
   "execution_count": 63,
   "metadata": {},
   "outputs": [
    {
     "name": "stdout",
     "output_type": "stream",
     "text": [
      "Mean Squared Error:  11.7033\n"
     ]
    }
   ],
   "source": [
    "knn = KNeighborsRegressor(n_neighbors = 22)\n",
    "knn.fit(x_train,y_train)\n",
    "print('Mean Squared Error: ',format(mean_squared_error(knn.predict(x_test),y_test),\".4f\"))"
   ]
  },
  {
   "cell_type": "code",
   "execution_count": 64,
   "metadata": {},
   "outputs": [
    {
     "name": "stdout",
     "output_type": "stream",
     "text": [
      "R-square:  0.6714\n"
     ]
    }
   ],
   "source": [
    "print('R-square: ',format(knn.score(x_test, y_test),\".4f\"))"
   ]
  },
  {
   "cell_type": "code",
   "execution_count": 65,
   "metadata": {},
   "outputs": [
    {
     "data": {
      "image/png": "[encoded data removed]",
      "text/plain": [
       "<Figure size 432x288 with 1 Axes>"
      ]
     },
     "metadata": {
      "needs_background": "light"
     },
     "output_type": "display_data"
    }
   ],
   "source": [
    "fig=plt.figure()\n",
    "ax = fig.add_subplot(1, 1, 1)\n",
    "ax.plot(df['k'].values,df['score'])\n",
    "ax.set_xlabel('NeighbourSize')\n",
    "ax.set_ylabel('Score')\n",
    "ax.tick_params(axis='x', labelsize=10)"
   ]
  },
  {
   "cell_type": "code",
   "execution_count": null,
   "metadata": {},
   "outputs": [],
   "source": []
  }
 ],
 "metadata": {
  "kernelspec": {
   "display_name": "Python 3",
   "language": "python",
   "name": "python3"
  },
  "language_info": {
   "codemirror_mode": {
    "name": "ipython",
    "version": 3
   },
   "file_extension": ".py",
   "mimetype": "text/x-python",
   "name": "python",
   "nbconvert_exporter": "python",
   "pygments_lexer": "ipython3",
   "version": "3.7.6"
  }
 },
 "nbformat": 4,
 "nbformat_minor": 4
}
